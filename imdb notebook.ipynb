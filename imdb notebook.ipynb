{
 "cells": [
  {
   "cell_type": "markdown",
   "id": "853e2083-8a89-4053-b20f-9957bbd60f9a",
   "metadata": {},
   "source": [
    "<h1 style='text-align:center; background-color:darkgreen; color:white; padding:10px'>IMDB DataSet from Kaggle</h1>"
   ]
  },
  {
   "cell_type": "code",
   "execution_count": 1,
   "id": "318a4521-3578-4398-9632-6855b6f03363",
   "metadata": {},
   "outputs": [],
   "source": [
    "#IMPORT LIBRARIES\n",
    "import os \n",
    "import pandas as pd\n",
    "import numpy as np\n",
    "import re"
   ]
  },
  {
   "cell_type": "code",
   "execution_count": 5,
   "id": "df7e25b9-c876-49f5-8365-cf1401841091",
   "metadata": {
    "tags": []
   },
   "outputs": [
    {
     "name": "stdout",
     "output_type": "stream",
     "text": [
      "files/.ipynb_checkpoints\n",
      "files/IMDb_All_Genres_etf_clean1.csv\n",
      "files/imdb_threshed.csv\n",
      "files/movie_actors.csv\n"
     ]
    }
   ],
   "source": [
    "# Getting the dataset's Path in the \"files\" directory\n",
    "for file in os.listdir('files'):\n",
    "    print('files/' + file)"
   ]
  },
  {
   "cell_type": "code",
   "execution_count": 20,
   "id": "e8ac32fd-451b-4481-b865-3d5693bf8955",
   "metadata": {},
   "outputs": [],
   "source": [
    "# Reading data to a Pandas DataFrame\n",
    "# na_values = Strings that should be considered as null\n",
    "imdb = pd.read_csv('files\\IMDb_All_Genres_etf_clean1.csv', na_values=['', '-'])"
   ]
  },
  {
   "cell_type": "markdown",
   "id": "18d7e00d-23c6-4a24-a66d-922953c10632",
   "metadata": {},
   "source": [
    "<h2 style='text-align:center; background-color:darkgreen; color:white; padding:10px'>Preliminary Data analyzes</h2>"
   ]
  },
  {
   "cell_type": "code",
   "execution_count": 4,
   "id": "c1a29993-40e5-4aa8-a877-7aab7cb94bfa",
   "metadata": {},
   "outputs": [
    {
     "data": {
      "text/html": [
       "<div>\n",
       "<style scoped>\n",
       "    .dataframe tbody tr th:only-of-type {\n",
       "        vertical-align: middle;\n",
       "    }\n",
       "\n",
       "    .dataframe tbody tr th {\n",
       "        vertical-align: top;\n",
       "    }\n",
       "\n",
       "    .dataframe thead th {\n",
       "        text-align: right;\n",
       "    }\n",
       "</style>\n",
       "<table border=\"1\" class=\"dataframe\">\n",
       "  <thead>\n",
       "    <tr style=\"text-align: right;\">\n",
       "      <th></th>\n",
       "      <th>Movie_Title</th>\n",
       "      <th>Year</th>\n",
       "      <th>Director</th>\n",
       "      <th>Actors</th>\n",
       "      <th>Rating</th>\n",
       "      <th>Runtime(Mins)</th>\n",
       "      <th>Censor</th>\n",
       "      <th>Total_Gross</th>\n",
       "      <th>main_genre</th>\n",
       "      <th>side_genre</th>\n",
       "    </tr>\n",
       "  </thead>\n",
       "  <tbody>\n",
       "    <tr>\n",
       "      <th>0</th>\n",
       "      <td>Kantara</td>\n",
       "      <td>2022</td>\n",
       "      <td>Rishab Shetty</td>\n",
       "      <td>Rishab Shetty, Sapthami Gowda, Kishore Kumar G...</td>\n",
       "      <td>9.3</td>\n",
       "      <td>148</td>\n",
       "      <td>UA</td>\n",
       "      <td>Gross Unkown</td>\n",
       "      <td>Action</td>\n",
       "      <td>Adventure,  Drama</td>\n",
       "    </tr>\n",
       "    <tr>\n",
       "      <th>1</th>\n",
       "      <td>The Dark Knight</td>\n",
       "      <td>2008</td>\n",
       "      <td>Christopher Nolan</td>\n",
       "      <td>Christian Bale, Heath Ledger, Aaron Eckhart, M...</td>\n",
       "      <td>9.0</td>\n",
       "      <td>152</td>\n",
       "      <td>UA</td>\n",
       "      <td>$534.86M</td>\n",
       "      <td>Action</td>\n",
       "      <td>Crime,  Drama</td>\n",
       "    </tr>\n",
       "    <tr>\n",
       "      <th>2</th>\n",
       "      <td>The Lord of the Rings: The Return of the King</td>\n",
       "      <td>2003</td>\n",
       "      <td>Peter Jackson</td>\n",
       "      <td>Elijah Wood, Viggo Mortensen, Ian McKellen, Or...</td>\n",
       "      <td>9.0</td>\n",
       "      <td>201</td>\n",
       "      <td>U</td>\n",
       "      <td>$377.85M</td>\n",
       "      <td>Action</td>\n",
       "      <td>Adventure,  Drama</td>\n",
       "    </tr>\n",
       "    <tr>\n",
       "      <th>3</th>\n",
       "      <td>Inception</td>\n",
       "      <td>2010</td>\n",
       "      <td>Christopher Nolan</td>\n",
       "      <td>Leonardo DiCaprio, Joseph Gordon-Levitt, Ellio...</td>\n",
       "      <td>8.8</td>\n",
       "      <td>148</td>\n",
       "      <td>UA</td>\n",
       "      <td>$292.58M</td>\n",
       "      <td>Action</td>\n",
       "      <td>Adventure,  Sci-Fi</td>\n",
       "    </tr>\n",
       "    <tr>\n",
       "      <th>4</th>\n",
       "      <td>The Lord of the Rings: The Two Towers</td>\n",
       "      <td>2002</td>\n",
       "      <td>Peter Jackson</td>\n",
       "      <td>Elijah Wood, Ian McKellen, Viggo Mortensen, Or...</td>\n",
       "      <td>8.8</td>\n",
       "      <td>179</td>\n",
       "      <td>UA</td>\n",
       "      <td>$342.55M</td>\n",
       "      <td>Action</td>\n",
       "      <td>Adventure,  Drama</td>\n",
       "    </tr>\n",
       "  </tbody>\n",
       "</table>\n",
       "</div>"
      ],
      "text/plain": [
       "                                     Movie_Title  Year           Director  \\\n",
       "0                                        Kantara  2022      Rishab Shetty   \n",
       "1                                The Dark Knight  2008  Christopher Nolan   \n",
       "2  The Lord of the Rings: The Return of the King  2003      Peter Jackson   \n",
       "3                                      Inception  2010  Christopher Nolan   \n",
       "4          The Lord of the Rings: The Two Towers  2002      Peter Jackson   \n",
       "\n",
       "                                              Actors  Rating  Runtime(Mins)  \\\n",
       "0  Rishab Shetty, Sapthami Gowda, Kishore Kumar G...     9.3            148   \n",
       "1  Christian Bale, Heath Ledger, Aaron Eckhart, M...     9.0            152   \n",
       "2  Elijah Wood, Viggo Mortensen, Ian McKellen, Or...     9.0            201   \n",
       "3  Leonardo DiCaprio, Joseph Gordon-Levitt, Ellio...     8.8            148   \n",
       "4  Elijah Wood, Ian McKellen, Viggo Mortensen, Or...     8.8            179   \n",
       "\n",
       "  Censor   Total_Gross main_genre           side_genre  \n",
       "0     UA  Gross Unkown     Action    Adventure,  Drama  \n",
       "1     UA      $534.86M     Action        Crime,  Drama  \n",
       "2      U      $377.85M     Action    Adventure,  Drama  \n",
       "3     UA      $292.58M     Action   Adventure,  Sci-Fi  \n",
       "4     UA      $342.55M     Action    Adventure,  Drama  "
      ]
     },
     "execution_count": 4,
     "metadata": {},
     "output_type": "execute_result"
    }
   ],
   "source": [
    "imdb.head()"
   ]
  },
  {
   "cell_type": "code",
   "execution_count": 5,
   "id": "bb6ce6e4-5a31-4b04-abc0-420477504f30",
   "metadata": {},
   "outputs": [
    {
     "data": {
      "text/plain": [
       "(5562, 10)"
      ]
     },
     "execution_count": 5,
     "metadata": {},
     "output_type": "execute_result"
    }
   ],
   "source": [
    "#shape = rows x columns\n",
    "imdb.shape"
   ]
  },
  {
   "cell_type": "code",
   "execution_count": 6,
   "id": "8dd530a2-ff6f-4b36-ad3d-4454efb6eddf",
   "metadata": {},
   "outputs": [
    {
     "name": "stdout",
     "output_type": "stream",
     "text": [
      "<class 'pandas.core.frame.DataFrame'>\n",
      "RangeIndex: 5562 entries, 0 to 5561\n",
      "Data columns (total 10 columns):\n",
      " #   Column         Non-Null Count  Dtype  \n",
      "---  ------         --------------  -----  \n",
      " 0   Movie_Title    5562 non-null   object \n",
      " 1   Year           5562 non-null   int64  \n",
      " 2   Director       5562 non-null   object \n",
      " 3   Actors         5562 non-null   object \n",
      " 4   Rating         5562 non-null   float64\n",
      " 5   Runtime(Mins)  5562 non-null   int64  \n",
      " 6   Censor         5562 non-null   object \n",
      " 7   Total_Gross    5562 non-null   object \n",
      " 8   main_genre     5562 non-null   object \n",
      " 9   side_genre     5562 non-null   object \n",
      "dtypes: float64(1), int64(2), object(7)\n",
      "memory usage: 434.7+ KB\n"
     ]
    }
   ],
   "source": [
    "# Information\n",
    "imdb.info()\n",
    "\n",
    "# Notice: \n",
    "    # that there is no null value anyway\n",
    "    # data types for numeric types are ok except by the Total_Gross (see Total Gross Section Down Below)"
   ]
  },
  {
   "cell_type": "code",
   "execution_count": 7,
   "id": "0e9d0d88-9533-485e-a579-9f5e76d2141c",
   "metadata": {},
   "outputs": [
    {
     "data": {
      "text/html": [
       "<div>\n",
       "<style scoped>\n",
       "    .dataframe tbody tr th:only-of-type {\n",
       "        vertical-align: middle;\n",
       "    }\n",
       "\n",
       "    .dataframe tbody tr th {\n",
       "        vertical-align: top;\n",
       "    }\n",
       "\n",
       "    .dataframe thead th {\n",
       "        text-align: right;\n",
       "    }\n",
       "</style>\n",
       "<table border=\"1\" class=\"dataframe\">\n",
       "  <thead>\n",
       "    <tr style=\"text-align: right;\">\n",
       "      <th></th>\n",
       "      <th>Year</th>\n",
       "      <th>Rating</th>\n",
       "      <th>Runtime(Mins)</th>\n",
       "    </tr>\n",
       "  </thead>\n",
       "  <tbody>\n",
       "    <tr>\n",
       "      <th>Year</th>\n",
       "      <td>1.000000</td>\n",
       "      <td>-0.291711</td>\n",
       "      <td>0.022971</td>\n",
       "    </tr>\n",
       "    <tr>\n",
       "      <th>Rating</th>\n",
       "      <td>-0.291711</td>\n",
       "      <td>1.000000</td>\n",
       "      <td>0.323256</td>\n",
       "    </tr>\n",
       "    <tr>\n",
       "      <th>Runtime(Mins)</th>\n",
       "      <td>0.022971</td>\n",
       "      <td>0.323256</td>\n",
       "      <td>1.000000</td>\n",
       "    </tr>\n",
       "  </tbody>\n",
       "</table>\n",
       "</div>"
      ],
      "text/plain": [
       "                   Year    Rating  Runtime(Mins)\n",
       "Year           1.000000 -0.291711       0.022971\n",
       "Rating        -0.291711  1.000000       0.323256\n",
       "Runtime(Mins)  0.022971  0.323256       1.000000"
      ]
     },
     "execution_count": 7,
     "metadata": {},
     "output_type": "execute_result"
    }
   ],
   "source": [
    "# Correlation between columns\n",
    "imdb.corr()"
   ]
  },
  {
   "cell_type": "code",
   "execution_count": 8,
   "id": "1c5042f6-2329-4f31-9a72-bde5ae64c285",
   "metadata": {},
   "outputs": [
    {
     "data": {
      "text/html": [
       "<div>\n",
       "<style scoped>\n",
       "    .dataframe tbody tr th:only-of-type {\n",
       "        vertical-align: middle;\n",
       "    }\n",
       "\n",
       "    .dataframe tbody tr th {\n",
       "        vertical-align: top;\n",
       "    }\n",
       "\n",
       "    .dataframe thead th {\n",
       "        text-align: right;\n",
       "    }\n",
       "</style>\n",
       "<table border=\"1\" class=\"dataframe\">\n",
       "  <thead>\n",
       "    <tr style=\"text-align: right;\">\n",
       "      <th></th>\n",
       "      <th>Year</th>\n",
       "      <th>Rating</th>\n",
       "      <th>Runtime(Mins)</th>\n",
       "    </tr>\n",
       "  </thead>\n",
       "  <tbody>\n",
       "    <tr>\n",
       "      <th>count</th>\n",
       "      <td>5562.000000</td>\n",
       "      <td>5562.000000</td>\n",
       "      <td>5562.000000</td>\n",
       "    </tr>\n",
       "    <tr>\n",
       "      <th>mean</th>\n",
       "      <td>2002.792521</td>\n",
       "      <td>6.755861</td>\n",
       "      <td>112.226717</td>\n",
       "    </tr>\n",
       "    <tr>\n",
       "      <th>std</th>\n",
       "      <td>16.143990</td>\n",
       "      <td>0.937133</td>\n",
       "      <td>21.612655</td>\n",
       "    </tr>\n",
       "    <tr>\n",
       "      <th>min</th>\n",
       "      <td>1920.000000</td>\n",
       "      <td>1.000000</td>\n",
       "      <td>45.000000</td>\n",
       "    </tr>\n",
       "    <tr>\n",
       "      <th>25%</th>\n",
       "      <td>1997.000000</td>\n",
       "      <td>6.200000</td>\n",
       "      <td>97.000000</td>\n",
       "    </tr>\n",
       "    <tr>\n",
       "      <th>50%</th>\n",
       "      <td>2007.000000</td>\n",
       "      <td>6.800000</td>\n",
       "      <td>108.000000</td>\n",
       "    </tr>\n",
       "    <tr>\n",
       "      <th>75%</th>\n",
       "      <td>2014.000000</td>\n",
       "      <td>7.400000</td>\n",
       "      <td>123.000000</td>\n",
       "    </tr>\n",
       "    <tr>\n",
       "      <th>max</th>\n",
       "      <td>2022.000000</td>\n",
       "      <td>9.300000</td>\n",
       "      <td>321.000000</td>\n",
       "    </tr>\n",
       "  </tbody>\n",
       "</table>\n",
       "</div>"
      ],
      "text/plain": [
       "              Year       Rating  Runtime(Mins)\n",
       "count  5562.000000  5562.000000    5562.000000\n",
       "mean   2002.792521     6.755861     112.226717\n",
       "std      16.143990     0.937133      21.612655\n",
       "min    1920.000000     1.000000      45.000000\n",
       "25%    1997.000000     6.200000      97.000000\n",
       "50%    2007.000000     6.800000     108.000000\n",
       "75%    2014.000000     7.400000     123.000000\n",
       "max    2022.000000     9.300000     321.000000"
      ]
     },
     "execution_count": 8,
     "metadata": {},
     "output_type": "execute_result"
    }
   ],
   "source": [
    "#Statistical Information\n",
    "imdb.describe()\n",
    "\n",
    "# Notice that although There is no corelation betweem columns, there is a correlation between number of movies and their year. \n",
    "# Despite the oldest movie is from 1920, just 25% of them are from before 1997. This will be ilustrated at the chart down below."
   ]
  },
  {
   "cell_type": "code",
   "execution_count": 21,
   "id": "60d091c9-cf3e-4acc-a45b-9547983b32c1",
   "metadata": {},
   "outputs": [
    {
     "data": {
      "text/html": [
       "<div>\n",
       "<style scoped>\n",
       "    .dataframe tbody tr th:only-of-type {\n",
       "        vertical-align: middle;\n",
       "    }\n",
       "\n",
       "    .dataframe tbody tr th {\n",
       "        vertical-align: top;\n",
       "    }\n",
       "\n",
       "    .dataframe thead th {\n",
       "        text-align: right;\n",
       "    }\n",
       "</style>\n",
       "<table border=\"1\" class=\"dataframe\">\n",
       "  <thead>\n",
       "    <tr style=\"text-align: right;\">\n",
       "      <th></th>\n",
       "      <th>Movie_Title</th>\n",
       "      <th>Year</th>\n",
       "      <th>Director</th>\n",
       "      <th>Actors</th>\n",
       "      <th>Rating</th>\n",
       "      <th>Runtime(Mins)</th>\n",
       "      <th>Censor</th>\n",
       "      <th>Total_Gross</th>\n",
       "      <th>main_genre</th>\n",
       "      <th>side_genre</th>\n",
       "    </tr>\n",
       "  </thead>\n",
       "  <tbody>\n",
       "    <tr>\n",
       "      <th>1572</th>\n",
       "      <td>Rush</td>\n",
       "      <td>2013</td>\n",
       "      <td>Ron Howard</td>\n",
       "      <td>Daniel Brühl, Chris Hemsworth, Olivia Wilde, A...</td>\n",
       "      <td>8.1</td>\n",
       "      <td>123</td>\n",
       "      <td>R</td>\n",
       "      <td>$26.95M</td>\n",
       "      <td>Action</td>\n",
       "      <td>Biography,  Drama</td>\n",
       "    </tr>\n",
       "    <tr>\n",
       "      <th>2567</th>\n",
       "      <td>Filth</td>\n",
       "      <td>2013</td>\n",
       "      <td>Jon S. Baird</td>\n",
       "      <td>James McAvoy, Jamie Bell, Eddie Marsan, Imogen...</td>\n",
       "      <td>7.0</td>\n",
       "      <td>97</td>\n",
       "      <td>A</td>\n",
       "      <td>$0.03M</td>\n",
       "      <td>Action</td>\n",
       "      <td>Comedy,  Crime</td>\n",
       "    </tr>\n",
       "    <tr>\n",
       "      <th>2597</th>\n",
       "      <td>Taxi</td>\n",
       "      <td>1998</td>\n",
       "      <td>Gérard Pirès</td>\n",
       "      <td>Samy Naceri, Frédéric Diefenthal, Marion Cotil...</td>\n",
       "      <td>6.9</td>\n",
       "      <td>86</td>\n",
       "      <td>U</td>\n",
       "      <td>$0.27M</td>\n",
       "      <td>Action</td>\n",
       "      <td>Comedy,  Crime</td>\n",
       "    </tr>\n",
       "    <tr>\n",
       "      <th>2675</th>\n",
       "      <td>The Heat</td>\n",
       "      <td>2013</td>\n",
       "      <td>Paul Feig</td>\n",
       "      <td>Sandra Bullock, Michael McDonald, Melissa McCa...</td>\n",
       "      <td>6.6</td>\n",
       "      <td>117</td>\n",
       "      <td>A</td>\n",
       "      <td>$159.58M</td>\n",
       "      <td>Action</td>\n",
       "      <td>Comedy,  Crime</td>\n",
       "    </tr>\n",
       "    <tr>\n",
       "      <th>2705</th>\n",
       "      <td>Homefront</td>\n",
       "      <td>2013</td>\n",
       "      <td>Gary Fleder</td>\n",
       "      <td>Jason Statham, James Franco, Winona Ryder, Kat...</td>\n",
       "      <td>6.5</td>\n",
       "      <td>100</td>\n",
       "      <td>18</td>\n",
       "      <td>$20.16M</td>\n",
       "      <td>Action</td>\n",
       "      <td>Crime,  Thriller</td>\n",
       "    </tr>\n",
       "    <tr>\n",
       "      <th>2780</th>\n",
       "      <td>Hummingbird</td>\n",
       "      <td>2013</td>\n",
       "      <td>Steven Knight</td>\n",
       "      <td>Jason Statham, Agata Buzek, Vicky McClure, Ben...</td>\n",
       "      <td>6.2</td>\n",
       "      <td>100</td>\n",
       "      <td>A</td>\n",
       "      <td>$0.03M</td>\n",
       "      <td>Action</td>\n",
       "      <td>Crime,  Drama</td>\n",
       "    </tr>\n",
       "    <tr>\n",
       "      <th>2815</th>\n",
       "      <td>Point of No Return</td>\n",
       "      <td>1993</td>\n",
       "      <td>John Badham</td>\n",
       "      <td>Bridget Fonda, Gabriel Byrne, Dermot Mulroney,...</td>\n",
       "      <td>6.1</td>\n",
       "      <td>109</td>\n",
       "      <td>R</td>\n",
       "      <td>$30.04M</td>\n",
       "      <td>Action</td>\n",
       "      <td>Crime,  Drama</td>\n",
       "    </tr>\n",
       "    <tr>\n",
       "      <th>4450</th>\n",
       "      <td>Elysium</td>\n",
       "      <td>2013</td>\n",
       "      <td>Neill Blomkamp</td>\n",
       "      <td>Matt Damon, Jodie Foster, Sharlto Copley, Alic...</td>\n",
       "      <td>6.6</td>\n",
       "      <td>109</td>\n",
       "      <td>A</td>\n",
       "      <td>$93.05M</td>\n",
       "      <td>Action</td>\n",
       "      <td>Drama,  Sci-Fi</td>\n",
       "    </tr>\n",
       "    <tr>\n",
       "      <th>4563</th>\n",
       "      <td>Snitch</td>\n",
       "      <td>2013</td>\n",
       "      <td>Ric Roman Waugh</td>\n",
       "      <td>Dwayne Johnson, Susan Sarandon, Jon Bernthal, ...</td>\n",
       "      <td>6.4</td>\n",
       "      <td>112</td>\n",
       "      <td>UA</td>\n",
       "      <td>$42.93M</td>\n",
       "      <td>Action</td>\n",
       "      <td>Drama,  Thriller</td>\n",
       "    </tr>\n",
       "    <tr>\n",
       "      <th>4705</th>\n",
       "      <td>The Machine</td>\n",
       "      <td>2013</td>\n",
       "      <td>Caradog W. James</td>\n",
       "      <td>Toby Stephens, Caity Lotz, Denis Lawson, Sam H...</td>\n",
       "      <td>6.0</td>\n",
       "      <td>91</td>\n",
       "      <td>R</td>\n",
       "      <td>Gross Unkown</td>\n",
       "      <td>Action</td>\n",
       "      <td>Drama,  Sci-Fi</td>\n",
       "    </tr>\n",
       "    <tr>\n",
       "      <th>4956</th>\n",
       "      <td>The Suicide Squad</td>\n",
       "      <td>2021</td>\n",
       "      <td>James Gunn</td>\n",
       "      <td>Margot Robbie, Idris Elba, John Cena, Joel Kin...</td>\n",
       "      <td>7.2</td>\n",
       "      <td>132</td>\n",
       "      <td>A</td>\n",
       "      <td>$55.82M</td>\n",
       "      <td>Action</td>\n",
       "      <td>Adventure,  Comedy</td>\n",
       "    </tr>\n",
       "  </tbody>\n",
       "</table>\n",
       "</div>"
      ],
      "text/plain": [
       "             Movie_Title  Year          Director  \\\n",
       "1572                Rush  2013        Ron Howard   \n",
       "2567               Filth  2013      Jon S. Baird   \n",
       "2597                Taxi  1998      Gérard Pirès   \n",
       "2675            The Heat  2013         Paul Feig   \n",
       "2705           Homefront  2013       Gary Fleder   \n",
       "2780         Hummingbird  2013     Steven Knight   \n",
       "2815  Point of No Return  1993       John Badham   \n",
       "4450             Elysium  2013    Neill Blomkamp   \n",
       "4563              Snitch  2013   Ric Roman Waugh   \n",
       "4705         The Machine  2013  Caradog W. James   \n",
       "4956   The Suicide Squad  2021        James Gunn   \n",
       "\n",
       "                                                 Actors  Rating  \\\n",
       "1572  Daniel Brühl, Chris Hemsworth, Olivia Wilde, A...     8.1   \n",
       "2567  James McAvoy, Jamie Bell, Eddie Marsan, Imogen...     7.0   \n",
       "2597  Samy Naceri, Frédéric Diefenthal, Marion Cotil...     6.9   \n",
       "2675  Sandra Bullock, Michael McDonald, Melissa McCa...     6.6   \n",
       "2705  Jason Statham, James Franco, Winona Ryder, Kat...     6.5   \n",
       "2780  Jason Statham, Agata Buzek, Vicky McClure, Ben...     6.2   \n",
       "2815  Bridget Fonda, Gabriel Byrne, Dermot Mulroney,...     6.1   \n",
       "4450  Matt Damon, Jodie Foster, Sharlto Copley, Alic...     6.6   \n",
       "4563  Dwayne Johnson, Susan Sarandon, Jon Bernthal, ...     6.4   \n",
       "4705  Toby Stephens, Caity Lotz, Denis Lawson, Sam H...     6.0   \n",
       "4956  Margot Robbie, Idris Elba, John Cena, Joel Kin...     7.2   \n",
       "\n",
       "      Runtime(Mins) Censor   Total_Gross main_genre           side_genre  \n",
       "1572            123      R       $26.95M     Action    Biography,  Drama  \n",
       "2567             97      A        $0.03M     Action       Comedy,  Crime  \n",
       "2597             86      U        $0.27M     Action       Comedy,  Crime  \n",
       "2675            117      A      $159.58M     Action       Comedy,  Crime  \n",
       "2705            100     18       $20.16M     Action     Crime,  Thriller  \n",
       "2780            100      A        $0.03M     Action        Crime,  Drama  \n",
       "2815            109      R       $30.04M     Action        Crime,  Drama  \n",
       "4450            109      A       $93.05M     Action       Drama,  Sci-Fi  \n",
       "4563            112     UA       $42.93M     Action     Drama,  Thriller  \n",
       "4705             91      R  Gross Unkown     Action       Drama,  Sci-Fi  \n",
       "4956            132      A       $55.82M     Action   Adventure,  Comedy  "
      ]
     },
     "execution_count": 21,
     "metadata": {},
     "output_type": "execute_result"
    }
   ],
   "source": [
    "# Duplicates\n",
    "imdb[imdb.duplicated(['Movie_Title', 'Year', 'Director'])]"
   ]
  },
  {
   "cell_type": "code",
   "execution_count": 23,
   "id": "8739d248-5fa6-4118-b609-9775b3c69b85",
   "metadata": {},
   "outputs": [],
   "source": [
    "# Removing duplications\n",
    "imdb.drop(imdb[imdb.duplicated(['Movie_Title', 'Year', 'Director'])].index, inplace=True)"
   ]
  },
  {
   "cell_type": "markdown",
   "id": "c74f0be5-8d9f-4962-a385-081cc4219952",
   "metadata": {},
   "source": [
    "<h2 style='text-align:center; background-color:darkgreen; color:white; padding:10px'>Visualizations</h2>"
   ]
  },
  {
   "cell_type": "code",
   "execution_count": 28,
   "id": "b34fa9cf-6075-432f-8f4f-ee8a8eb61d63",
   "metadata": {
    "tags": []
   },
   "outputs": [
    {
     "data": {
      "text/plain": [
       "2014    216\n",
       "2013    202\n",
       "2011    198\n",
       "2016    197\n",
       "2018    195\n",
       "       ... \n",
       "1936      1\n",
       "1924      1\n",
       "1921      1\n",
       "1930      1\n",
       "1933      1\n",
       "Name: Year, Length: 99, dtype: int64"
      ]
     },
     "execution_count": 30,
     "metadata": {},
     "output_type": "execute_result"
    }
   ],
   "source": [
    "# Chart to show the high quantity of newer movies\n",
    "\n",
    "year_qtd = imdb['Year'].value_counts().sort_index()\n",
    "year_qtd.plot(\n",
    "    title = 'Quantity of Movies per Year',\n",
    "    figsize = (9,4),\n",
    "    xlabel = 'Year'\n",
    ")\n"
   ]
  },
  {
   "cell_type": "code",
   "execution_count": 32,
   "id": "c6529e7d-3b65-47c3-b7d5-a8a3ca2229a5",
   "metadata": {},
   "outputs": [
    {
     "data": {
      "text/plain": [
       "<AxesSubplot: title={'center': 'Top 10 Directors whit more movies'}>"
      ]
     },
     "execution_count": 32,
     "metadata": {},
     "output_type": "execute_result"
    },
    {
     "data": {
      "image/png": "[encoded data removed]",
      "text/plain": [
       "<Figure size 900x400 with 1 Axes>"
      ]
     },
     "metadata": {},
     "output_type": "display_data"
    }
   ],
   "source": [
    "# Top 10 directors in quantity of movies in this data set\n",
    "\n",
    "imdb['Director'].value_counts()[:10].plot(\n",
    "    kind='bar',\n",
    "    title = 'Top 10 Directors whit more movies',\n",
    "    figsize = (9,4),\n",
    "    rot = 20\n",
    ")"
   ]
  },
  {
   "cell_type": "code",
   "execution_count": 34,
   "id": "4c92284b-0e7d-442d-8dc9-81ef208247c5",
   "metadata": {},
   "outputs": [
    {
     "data": {
      "text/plain": [
       "<AxesSubplot: title={'center': 'Top Directors by Rating'}>"
      ]
     },
     "execution_count": 34,
     "metadata": {},
     "output_type": "execute_result"
    },
    {
     "data": {
      "image/png": "[encoded data removed]",
      "text/plain": [
       "<Figure size 900x400 with 1 Axes>"
      ]
     },
     "metadata": {},
     "output_type": "display_data"
    }
   ],
   "source": [
    "# Top 5 directors in mean rating\n",
    "\n",
    "imdb.groupby('Director')['Rating'].mean().sort_values(ascending=False)[:5].plot(\n",
    "    kind = 'bar',\n",
    "    figsize = (9,4),\n",
    "    title = 'Top Directors by Rating',\n",
    "    rot = 15,\n",
    "    xlabel = ''\n",
    ")"
   ]
  },
  {
   "cell_type": "code",
   "execution_count": 14,
   "id": "310b9709-9f58-4b53-a590-fd99e6fc5892",
   "metadata": {},
   "outputs": [
    {
     "data": {
      "text/html": [
       "<div>\n",
       "<style scoped>\n",
       "    .dataframe tbody tr th:only-of-type {\n",
       "        vertical-align: middle;\n",
       "    }\n",
       "\n",
       "    .dataframe tbody tr th {\n",
       "        vertical-align: top;\n",
       "    }\n",
       "\n",
       "    .dataframe thead th {\n",
       "        text-align: right;\n",
       "    }\n",
       "</style>\n",
       "<table border=\"1\" class=\"dataframe\">\n",
       "  <thead>\n",
       "    <tr style=\"text-align: right;\">\n",
       "      <th></th>\n",
       "      <th>Movie_Title</th>\n",
       "      <th>Rating</th>\n",
       "    </tr>\n",
       "  </thead>\n",
       "  <tbody>\n",
       "    <tr>\n",
       "      <th>0</th>\n",
       "      <td>Kantara</td>\n",
       "      <td>9.3</td>\n",
       "    </tr>\n",
       "    <tr>\n",
       "      <th>3448</th>\n",
       "      <td>The Shawshank Redemption</td>\n",
       "      <td>9.3</td>\n",
       "    </tr>\n",
       "    <tr>\n",
       "      <th>3449</th>\n",
       "      <td>Hababam Sinifi</td>\n",
       "      <td>9.2</td>\n",
       "    </tr>\n",
       "    <tr>\n",
       "      <th>2253</th>\n",
       "      <td>The Godfather</td>\n",
       "      <td>9.2</td>\n",
       "    </tr>\n",
       "    <tr>\n",
       "      <th>2</th>\n",
       "      <td>The Lord of the Rings: The Return of the King</td>\n",
       "      <td>9.0</td>\n",
       "    </tr>\n",
       "  </tbody>\n",
       "</table>\n",
       "</div>"
      ],
      "text/plain": [
       "                                        Movie_Title  Rating\n",
       "0                                           Kantara     9.3\n",
       "3448                       The Shawshank Redemption     9.3\n",
       "3449                                 Hababam Sinifi     9.2\n",
       "2253                                  The Godfather     9.2\n",
       "2     The Lord of the Rings: The Return of the King     9.0"
      ]
     },
     "execution_count": 14,
     "metadata": {},
     "output_type": "execute_result"
    }
   ],
   "source": [
    "# TOP Movies by Rating\n",
    "imdb.sort_values('Rating', ascending=False)[['Movie_Title', 'Rating']][:5]"
   ]
  },
  {
   "cell_type": "code",
   "execution_count": 35,
   "id": "9f50bc4e-53f0-405d-8433-c42ff21ebc9a",
   "metadata": {},
   "outputs": [
    {
     "data": {
      "text/plain": [
       "Robert De Niro       61\n",
       "Tom Hanks            49\n",
       "Samuel L. Jackson    48\n",
       "Nicolas Cage         47\n",
       "Mark Wahlberg        42\n",
       "dtype: int64"
      ]
     },
     "execution_count": 35,
     "metadata": {},
     "output_type": "execute_result"
    }
   ],
   "source": [
    "# TOP Actors with most appearances\n",
    "# How I saw that the actors are separeted by comma, thus I first join them all using comma too, then I splited them into a Pandas Series \n",
    "# so I can use the value_counts functions to discover they appearances.\n",
    "\n",
    "actors = imdb['Actors']\n",
    "pd.Series(', '.join(list(actors)).split(', ')).value_counts()[:5]"
   ]
  },
  {
   "cell_type": "markdown",
   "id": "280835cb-b9fa-41e4-b375-42a782759604",
   "metadata": {},
   "source": [
    "<h2 style='text-align:center; background-color:darkgreen; color:white; padding:10px; margin:0px'>Feature Engineering</h2>\n",
    "<h3 style='text-align:center; background-color:darkgreen; color:white; padding:10px; margin:0px'>Total Gross</h3>"
   ]
  },
  {
   "cell_type": "markdown",
   "id": "db515384-52e0-4601-82c7-2157d53f0d8b",
   "metadata": {},
   "source": [
    "<p>\n",
    "    <ol>\n",
    "        <li>First, to order by the total gross, whe have to change the type into a numeric type. As whe can see, there is a dollar sign in the left and a 'M' at the end that probably means Million.</li> \n",
    "        <li>Then, lets check if all the rows match this pattern in the step 1. </li>\n",
    "        <li>Then, lets drop the non-pattern values. Lastly, lets order by the float conversion of the values.</li>\n",
    "    </ol>\n",
    "</p>"
   ]
  },
  {
   "cell_type": "code",
   "execution_count": 56,
   "id": "18ad4ac1-aba4-4c48-83db-48ef494967b0",
   "metadata": {},
   "outputs": [
    {
     "data": {
      "text/plain": [
       "0               NaN\n",
       "1       534860000.0\n",
       "2       377850000.0\n",
       "3       292580000.0\n",
       "4       342550000.0\n",
       "           ...     \n",
       "5557     14190000.0\n",
       "5558        30000.0\n",
       "5559      4920000.0\n",
       "5560      9110000.0\n",
       "5561            NaN\n",
       "Name: Total_Gross, Length: 5551, dtype: float64"
      ]
     },
     "execution_count": 56,
     "metadata": {},
     "output_type": "execute_result"
    }
   ],
   "source": [
    "imdb['Total_Gross']"
   ]
  },
  {
   "cell_type": "code",
   "execution_count": 57,
   "id": "8483651e-2fe5-4fb3-abcf-90922acc2c2f",
   "metadata": {},
   "outputs": [
    {
     "ename": "AttributeError",
     "evalue": "Can only use .str accessor with string values!",
     "output_type": "error",
     "traceback": [
      "\u001b[1;31m---------------------------------------------------------------------------\u001b[0m",
      "\u001b[1;31mAttributeError\u001b[0m                            Traceback (most recent call last)",
      "Cell \u001b[1;32mIn [57], line 5\u001b[0m\n\u001b[0;32m      1\u001b[0m \u001b[38;5;66;03m# Step 1\u001b[39;00m\n\u001b[0;32m      2\u001b[0m \u001b[38;5;66;03m# We already know that there is no null value.\u001b[39;00m\n\u001b[0;32m      3\u001b[0m \u001b[38;5;66;03m# Now we know that there is no other possibility: either it are in the patter '$123.45M' or it is 'Gross unknow'\u001b[39;00m\n\u001b[1;32m----> 5\u001b[0m imdb\u001b[38;5;241m.\u001b[39mloc[\u001b[38;5;241m~\u001b[39m\u001b[43mimdb\u001b[49m\u001b[43m[\u001b[49m\u001b[38;5;124;43m'\u001b[39;49m\u001b[38;5;124;43mTotal_Gross\u001b[39;49m\u001b[38;5;124;43m'\u001b[39;49m\u001b[43m]\u001b[49m\u001b[38;5;241;43m.\u001b[39;49m\u001b[43mstr\u001b[49m\u001b[38;5;241m.\u001b[39mcontains(\u001b[38;5;124mr\u001b[39m\u001b[38;5;124m'\u001b[39m\u001b[38;5;124m^\u001b[39m\u001b[38;5;124m\\\u001b[39m\u001b[38;5;124m$[0-9.]+M$\u001b[39m\u001b[38;5;124m'\u001b[39m)][\u001b[38;5;124m'\u001b[39m\u001b[38;5;124mTotal_Gross\u001b[39m\u001b[38;5;124m'\u001b[39m]\u001b[38;5;241m.\u001b[39munique()\n",
      "File \u001b[1;32m~\\AppData\\Local\\Programs\\Python\\Python310\\lib\\site-packages\\pandas\\core\\generic.py:5575\u001b[0m, in \u001b[0;36mNDFrame.__getattr__\u001b[1;34m(self, name)\u001b[0m\n\u001b[0;32m   5568\u001b[0m \u001b[38;5;28;01mif\u001b[39;00m (\n\u001b[0;32m   5569\u001b[0m     name \u001b[38;5;129;01mnot\u001b[39;00m \u001b[38;5;129;01min\u001b[39;00m \u001b[38;5;28mself\u001b[39m\u001b[38;5;241m.\u001b[39m_internal_names_set\n\u001b[0;32m   5570\u001b[0m     \u001b[38;5;129;01mand\u001b[39;00m name \u001b[38;5;129;01mnot\u001b[39;00m \u001b[38;5;129;01min\u001b[39;00m \u001b[38;5;28mself\u001b[39m\u001b[38;5;241m.\u001b[39m_metadata\n\u001b[0;32m   5571\u001b[0m     \u001b[38;5;129;01mand\u001b[39;00m name \u001b[38;5;129;01mnot\u001b[39;00m \u001b[38;5;129;01min\u001b[39;00m \u001b[38;5;28mself\u001b[39m\u001b[38;5;241m.\u001b[39m_accessors\n\u001b[0;32m   5572\u001b[0m     \u001b[38;5;129;01mand\u001b[39;00m \u001b[38;5;28mself\u001b[39m\u001b[38;5;241m.\u001b[39m_info_axis\u001b[38;5;241m.\u001b[39m_can_hold_identifiers_and_holds_name(name)\n\u001b[0;32m   5573\u001b[0m ):\n\u001b[0;32m   5574\u001b[0m     \u001b[38;5;28;01mreturn\u001b[39;00m \u001b[38;5;28mself\u001b[39m[name]\n\u001b[1;32m-> 5575\u001b[0m \u001b[38;5;28;01mreturn\u001b[39;00m \u001b[38;5;28;43mobject\u001b[39;49m\u001b[38;5;241;43m.\u001b[39;49m\u001b[38;5;21;43m__getattribute__\u001b[39;49m\u001b[43m(\u001b[49m\u001b[38;5;28;43mself\u001b[39;49m\u001b[43m,\u001b[49m\u001b[43m \u001b[49m\u001b[43mname\u001b[49m\u001b[43m)\u001b[49m\n",
      "File \u001b[1;32m~\\AppData\\Local\\Programs\\Python\\Python310\\lib\\site-packages\\pandas\\core\\accessor.py:182\u001b[0m, in \u001b[0;36mCachedAccessor.__get__\u001b[1;34m(self, obj, cls)\u001b[0m\n\u001b[0;32m    179\u001b[0m \u001b[38;5;28;01mif\u001b[39;00m obj \u001b[38;5;129;01mis\u001b[39;00m \u001b[38;5;28;01mNone\u001b[39;00m:\n\u001b[0;32m    180\u001b[0m     \u001b[38;5;66;03m# we're accessing the attribute of the class, i.e., Dataset.geo\u001b[39;00m\n\u001b[0;32m    181\u001b[0m     \u001b[38;5;28;01mreturn\u001b[39;00m \u001b[38;5;28mself\u001b[39m\u001b[38;5;241m.\u001b[39m_accessor\n\u001b[1;32m--> 182\u001b[0m accessor_obj \u001b[38;5;241m=\u001b[39m \u001b[38;5;28;43mself\u001b[39;49m\u001b[38;5;241;43m.\u001b[39;49m\u001b[43m_accessor\u001b[49m\u001b[43m(\u001b[49m\u001b[43mobj\u001b[49m\u001b[43m)\u001b[49m\n\u001b[0;32m    183\u001b[0m \u001b[38;5;66;03m# Replace the property with the accessor object. Inspired by:\u001b[39;00m\n\u001b[0;32m    184\u001b[0m \u001b[38;5;66;03m# https://www.pydanny.com/cached-property.html\u001b[39;00m\n\u001b[0;32m    185\u001b[0m \u001b[38;5;66;03m# We need to use object.__setattr__ because we overwrite __setattr__ on\u001b[39;00m\n\u001b[0;32m    186\u001b[0m \u001b[38;5;66;03m# NDFrame\u001b[39;00m\n\u001b[0;32m    187\u001b[0m \u001b[38;5;28mobject\u001b[39m\u001b[38;5;241m.\u001b[39m\u001b[38;5;21m__setattr__\u001b[39m(obj, \u001b[38;5;28mself\u001b[39m\u001b[38;5;241m.\u001b[39m_name, accessor_obj)\n",
      "File \u001b[1;32m~\\AppData\\Local\\Programs\\Python\\Python310\\lib\\site-packages\\pandas\\core\\strings\\accessor.py:177\u001b[0m, in \u001b[0;36mStringMethods.__init__\u001b[1;34m(self, data)\u001b[0m\n\u001b[0;32m    174\u001b[0m \u001b[38;5;28;01mdef\u001b[39;00m \u001b[38;5;21m__init__\u001b[39m(\u001b[38;5;28mself\u001b[39m, data):\n\u001b[0;32m    175\u001b[0m     \u001b[38;5;28;01mfrom\u001b[39;00m \u001b[38;5;21;01mpandas\u001b[39;00m\u001b[38;5;21;01m.\u001b[39;00m\u001b[38;5;21;01mcore\u001b[39;00m\u001b[38;5;21;01m.\u001b[39;00m\u001b[38;5;21;01marrays\u001b[39;00m\u001b[38;5;21;01m.\u001b[39;00m\u001b[38;5;21;01mstring_\u001b[39;00m \u001b[38;5;28;01mimport\u001b[39;00m StringDtype\n\u001b[1;32m--> 177\u001b[0m     \u001b[38;5;28mself\u001b[39m\u001b[38;5;241m.\u001b[39m_inferred_dtype \u001b[38;5;241m=\u001b[39m \u001b[38;5;28;43mself\u001b[39;49m\u001b[38;5;241;43m.\u001b[39;49m\u001b[43m_validate\u001b[49m\u001b[43m(\u001b[49m\u001b[43mdata\u001b[49m\u001b[43m)\u001b[49m\n\u001b[0;32m    178\u001b[0m     \u001b[38;5;28mself\u001b[39m\u001b[38;5;241m.\u001b[39m_is_categorical \u001b[38;5;241m=\u001b[39m is_categorical_dtype(data\u001b[38;5;241m.\u001b[39mdtype)\n\u001b[0;32m    179\u001b[0m     \u001b[38;5;28mself\u001b[39m\u001b[38;5;241m.\u001b[39m_is_string \u001b[38;5;241m=\u001b[39m \u001b[38;5;28misinstance\u001b[39m(data\u001b[38;5;241m.\u001b[39mdtype, StringDtype)\n",
      "File \u001b[1;32m~\\AppData\\Local\\Programs\\Python\\Python310\\lib\\site-packages\\pandas\\core\\strings\\accessor.py:231\u001b[0m, in \u001b[0;36mStringMethods._validate\u001b[1;34m(data)\u001b[0m\n\u001b[0;32m    228\u001b[0m inferred_dtype \u001b[38;5;241m=\u001b[39m lib\u001b[38;5;241m.\u001b[39minfer_dtype(values, skipna\u001b[38;5;241m=\u001b[39m\u001b[38;5;28;01mTrue\u001b[39;00m)\n\u001b[0;32m    230\u001b[0m \u001b[38;5;28;01mif\u001b[39;00m inferred_dtype \u001b[38;5;129;01mnot\u001b[39;00m \u001b[38;5;129;01min\u001b[39;00m allowed_types:\n\u001b[1;32m--> 231\u001b[0m     \u001b[38;5;28;01mraise\u001b[39;00m \u001b[38;5;167;01mAttributeError\u001b[39;00m(\u001b[38;5;124m\"\u001b[39m\u001b[38;5;124mCan only use .str accessor with string values!\u001b[39m\u001b[38;5;124m\"\u001b[39m)\n\u001b[0;32m    232\u001b[0m \u001b[38;5;28;01mreturn\u001b[39;00m inferred_dtype\n",
      "\u001b[1;31mAttributeError\u001b[0m: Can only use .str accessor with string values!"
     ]
    }
   ],
   "source": [
    "# Step 1\n",
    "# We already know that there is no null value.\n",
    "# Now we know that there is no other possibility: either it are in the patter '$123.45M' or it is 'Gross unknow'\n",
    "\n",
    "imdb.loc[~imdb['Total_Gross'].str.contains(r'^\\$[0-9.]+M$')]['Total_Gross'].unique()"
   ]
  },
  {
   "cell_type": "code",
   "execution_count": 38,
   "id": "2b28b3aa-a626-4908-ba63-728cbce16a74",
   "metadata": {},
   "outputs": [],
   "source": [
    "# Step 2\n",
    "# Lets exchange 'Gross Unknow' for None\n",
    "\n",
    "imdb.loc[imdb['Total_Gross'] == 'Gross Unkown', 'Total_Gross'] = None"
   ]
  },
  {
   "cell_type": "code",
   "execution_count": 41,
   "id": "ed1458b1-e020-4bc2-8e82-9e1efc21099e",
   "metadata": {},
   "outputs": [
    {
     "data": {
      "text/html": [
       "<div>\n",
       "<style scoped>\n",
       "    .dataframe tbody tr th:only-of-type {\n",
       "        vertical-align: middle;\n",
       "    }\n",
       "\n",
       "    .dataframe tbody tr th {\n",
       "        vertical-align: top;\n",
       "    }\n",
       "\n",
       "    .dataframe thead th {\n",
       "        text-align: right;\n",
       "    }\n",
       "</style>\n",
       "<table border=\"1\" class=\"dataframe\">\n",
       "  <thead>\n",
       "    <tr style=\"text-align: right;\">\n",
       "      <th></th>\n",
       "      <th>Movie_Title</th>\n",
       "      <th>Year</th>\n",
       "      <th>Director</th>\n",
       "      <th>Actors</th>\n",
       "      <th>Rating</th>\n",
       "      <th>Runtime(Mins)</th>\n",
       "      <th>Censor</th>\n",
       "      <th>Total_Gross</th>\n",
       "      <th>main_genre</th>\n",
       "      <th>side_genre</th>\n",
       "    </tr>\n",
       "  </thead>\n",
       "  <tbody>\n",
       "    <tr>\n",
       "      <th>130</th>\n",
       "      <td>Star Wars: Episode VII - The Force Awakens</td>\n",
       "      <td>2015</td>\n",
       "      <td>J.J. Abrams</td>\n",
       "      <td>Daisy Ridley, John Boyega, Oscar Isaac, Domhna...</td>\n",
       "      <td>7.8</td>\n",
       "      <td>138</td>\n",
       "      <td>U</td>\n",
       "      <td>$936.66M</td>\n",
       "      <td>Action</td>\n",
       "      <td>Adventure,  Sci-Fi</td>\n",
       "    </tr>\n",
       "    <tr>\n",
       "      <th>19</th>\n",
       "      <td>Avengers: Endgame</td>\n",
       "      <td>2019</td>\n",
       "      <td>Directors:Anthony Russo, Joe Russo</td>\n",
       "      <td>Robert Downey Jr., Chris Evans, Mark Ruffalo, ...</td>\n",
       "      <td>8.4</td>\n",
       "      <td>181</td>\n",
       "      <td>UA</td>\n",
       "      <td>$858.37M</td>\n",
       "      <td>Action</td>\n",
       "      <td>Adventure,  Drama</td>\n",
       "    </tr>\n",
       "    <tr>\n",
       "      <th>31</th>\n",
       "      <td>Spider-Man: No Way Home</td>\n",
       "      <td>2021</td>\n",
       "      <td>Jon Watts</td>\n",
       "      <td>Tom Holland, Zendaya, Benedict Cumberbatch, Ja...</td>\n",
       "      <td>8.3</td>\n",
       "      <td>148</td>\n",
       "      <td>UA</td>\n",
       "      <td>$804.75M</td>\n",
       "      <td>Action</td>\n",
       "      <td>Adventure,  Fantasy</td>\n",
       "    </tr>\n",
       "    <tr>\n",
       "      <th>142</th>\n",
       "      <td>Avatar</td>\n",
       "      <td>2009</td>\n",
       "      <td>James Cameron</td>\n",
       "      <td>Sam Worthington, Zoe Saldana, Sigourney Weaver...</td>\n",
       "      <td>7.8</td>\n",
       "      <td>162</td>\n",
       "      <td>UA</td>\n",
       "      <td>$760.51M</td>\n",
       "      <td>Action</td>\n",
       "      <td>Adventure,  Fantasy</td>\n",
       "    </tr>\n",
       "    <tr>\n",
       "      <th>317</th>\n",
       "      <td>Black Panther</td>\n",
       "      <td>2018</td>\n",
       "      <td>Ryan Coogler</td>\n",
       "      <td>Chadwick Boseman, Michael B. Jordan, Lupita Ny...</td>\n",
       "      <td>7.3</td>\n",
       "      <td>134</td>\n",
       "      <td>UA</td>\n",
       "      <td>$700.06M</td>\n",
       "      <td>Action</td>\n",
       "      <td>Adventure,  Sci-Fi</td>\n",
       "    </tr>\n",
       "  </tbody>\n",
       "</table>\n",
       "</div>"
      ],
      "text/plain": [
       "                                    Movie_Title  Year  \\\n",
       "130  Star Wars: Episode VII - The Force Awakens  2015   \n",
       "19                            Avengers: Endgame  2019   \n",
       "31                      Spider-Man: No Way Home  2021   \n",
       "142                                      Avatar  2009   \n",
       "317                               Black Panther  2018   \n",
       "\n",
       "                               Director  \\\n",
       "130                         J.J. Abrams   \n",
       "19   Directors:Anthony Russo, Joe Russo   \n",
       "31                            Jon Watts   \n",
       "142                       James Cameron   \n",
       "317                        Ryan Coogler   \n",
       "\n",
       "                                                Actors  Rating  Runtime(Mins)  \\\n",
       "130  Daisy Ridley, John Boyega, Oscar Isaac, Domhna...     7.8            138   \n",
       "19   Robert Downey Jr., Chris Evans, Mark Ruffalo, ...     8.4            181   \n",
       "31   Tom Holland, Zendaya, Benedict Cumberbatch, Ja...     8.3            148   \n",
       "142  Sam Worthington, Zoe Saldana, Sigourney Weaver...     7.8            162   \n",
       "317  Chadwick Boseman, Michael B. Jordan, Lupita Ny...     7.3            134   \n",
       "\n",
       "    Censor Total_Gross main_genre            side_genre  \n",
       "130      U    $936.66M     Action    Adventure,  Sci-Fi  \n",
       "19      UA    $858.37M     Action     Adventure,  Drama  \n",
       "31      UA    $804.75M     Action   Adventure,  Fantasy  \n",
       "142     UA    $760.51M     Action   Adventure,  Fantasy  \n",
       "317     UA    $700.06M     Action    Adventure,  Sci-Fi  "
      ]
     },
     "execution_count": 41,
     "metadata": {},
     "output_type": "execute_result"
    }
   ],
   "source": [
    "# Finaly, lets Sort by the float values\n",
    "\n",
    "imdb.sort_values('Total_Gross', ascending=False, key=lambda x: x.str.extract(r'([0-9.]+)', expand=False).astype(float)).head(5)"
   ]
  },
  {
   "cell_type": "code",
   "execution_count": 54,
   "id": "00212fbf-2b1b-4a22-8414-9252a592a5b0",
   "metadata": {
    "tags": []
   },
   "outputs": [
    {
     "ename": "AttributeError",
     "evalue": "Can only use .str accessor with string values!",
     "output_type": "error",
     "traceback": [
      "\u001b[1;31m---------------------------------------------------------------------------\u001b[0m",
      "\u001b[1;31mAttributeError\u001b[0m                            Traceback (most recent call last)",
      "Cell \u001b[1;32mIn [54], line 3\u001b[0m\n\u001b[0;32m      1\u001b[0m \u001b[38;5;66;03m# Turning values as they represents (Millions)\u001b[39;00m\n\u001b[1;32m----> 3\u001b[0m imdb[\u001b[38;5;124m'\u001b[39m\u001b[38;5;124mTotal_Gross\u001b[39m\u001b[38;5;124m'\u001b[39m] \u001b[38;5;241m=\u001b[39m \u001b[43mimdb\u001b[49m\u001b[43m[\u001b[49m\u001b[38;5;124;43m'\u001b[39;49m\u001b[38;5;124;43mTotal_Gross\u001b[39;49m\u001b[38;5;124;43m'\u001b[39;49m\u001b[43m]\u001b[49m\u001b[38;5;241;43m.\u001b[39;49m\u001b[43mstr\u001b[49m\u001b[38;5;241m.\u001b[39mreplace(\u001b[38;5;124m'\u001b[39m\u001b[38;5;124m$\u001b[39m\u001b[38;5;124m'\u001b[39m, \u001b[38;5;124m'\u001b[39m\u001b[38;5;124m'\u001b[39m, regex\u001b[38;5;241m=\u001b[39m\u001b[38;5;28;01mFalse\u001b[39;00m)\u001b[38;5;241m.\u001b[39mstr\u001b[38;5;241m.\u001b[39mreplace(\u001b[38;5;124m'\u001b[39m\u001b[38;5;124mM\u001b[39m\u001b[38;5;124m'\u001b[39m, \u001b[38;5;124m'\u001b[39m\u001b[38;5;124m'\u001b[39m, regex\u001b[38;5;241m=\u001b[39m\u001b[38;5;28;01mFalse\u001b[39;00m)\n\u001b[0;32m      4\u001b[0m imdb[\u001b[38;5;124m'\u001b[39m\u001b[38;5;124mTotal_Gross\u001b[39m\u001b[38;5;124m'\u001b[39m] \u001b[38;5;241m=\u001b[39m imdb[\u001b[38;5;124m'\u001b[39m\u001b[38;5;124mTotal_Gross\u001b[39m\u001b[38;5;124m'\u001b[39m]\u001b[38;5;241m.\u001b[39mastype(\u001b[38;5;28mfloat\u001b[39m) \u001b[38;5;241m*\u001b[39m \u001b[38;5;241m1000000\u001b[39m\n",
      "File \u001b[1;32m~\\AppData\\Local\\Programs\\Python\\Python310\\lib\\site-packages\\pandas\\core\\generic.py:5575\u001b[0m, in \u001b[0;36mNDFrame.__getattr__\u001b[1;34m(self, name)\u001b[0m\n\u001b[0;32m   5568\u001b[0m \u001b[38;5;28;01mif\u001b[39;00m (\n\u001b[0;32m   5569\u001b[0m     name \u001b[38;5;129;01mnot\u001b[39;00m \u001b[38;5;129;01min\u001b[39;00m \u001b[38;5;28mself\u001b[39m\u001b[38;5;241m.\u001b[39m_internal_names_set\n\u001b[0;32m   5570\u001b[0m     \u001b[38;5;129;01mand\u001b[39;00m name \u001b[38;5;129;01mnot\u001b[39;00m \u001b[38;5;129;01min\u001b[39;00m \u001b[38;5;28mself\u001b[39m\u001b[38;5;241m.\u001b[39m_metadata\n\u001b[0;32m   5571\u001b[0m     \u001b[38;5;129;01mand\u001b[39;00m name \u001b[38;5;129;01mnot\u001b[39;00m \u001b[38;5;129;01min\u001b[39;00m \u001b[38;5;28mself\u001b[39m\u001b[38;5;241m.\u001b[39m_accessors\n\u001b[0;32m   5572\u001b[0m     \u001b[38;5;129;01mand\u001b[39;00m \u001b[38;5;28mself\u001b[39m\u001b[38;5;241m.\u001b[39m_info_axis\u001b[38;5;241m.\u001b[39m_can_hold_identifiers_and_holds_name(name)\n\u001b[0;32m   5573\u001b[0m ):\n\u001b[0;32m   5574\u001b[0m     \u001b[38;5;28;01mreturn\u001b[39;00m \u001b[38;5;28mself\u001b[39m[name]\n\u001b[1;32m-> 5575\u001b[0m \u001b[38;5;28;01mreturn\u001b[39;00m \u001b[38;5;28;43mobject\u001b[39;49m\u001b[38;5;241;43m.\u001b[39;49m\u001b[38;5;21;43m__getattribute__\u001b[39;49m\u001b[43m(\u001b[49m\u001b[38;5;28;43mself\u001b[39;49m\u001b[43m,\u001b[49m\u001b[43m \u001b[49m\u001b[43mname\u001b[49m\u001b[43m)\u001b[49m\n",
      "File \u001b[1;32m~\\AppData\\Local\\Programs\\Python\\Python310\\lib\\site-packages\\pandas\\core\\accessor.py:182\u001b[0m, in \u001b[0;36mCachedAccessor.__get__\u001b[1;34m(self, obj, cls)\u001b[0m\n\u001b[0;32m    179\u001b[0m \u001b[38;5;28;01mif\u001b[39;00m obj \u001b[38;5;129;01mis\u001b[39;00m \u001b[38;5;28;01mNone\u001b[39;00m:\n\u001b[0;32m    180\u001b[0m     \u001b[38;5;66;03m# we're accessing the attribute of the class, i.e., Dataset.geo\u001b[39;00m\n\u001b[0;32m    181\u001b[0m     \u001b[38;5;28;01mreturn\u001b[39;00m \u001b[38;5;28mself\u001b[39m\u001b[38;5;241m.\u001b[39m_accessor\n\u001b[1;32m--> 182\u001b[0m accessor_obj \u001b[38;5;241m=\u001b[39m \u001b[38;5;28;43mself\u001b[39;49m\u001b[38;5;241;43m.\u001b[39;49m\u001b[43m_accessor\u001b[49m\u001b[43m(\u001b[49m\u001b[43mobj\u001b[49m\u001b[43m)\u001b[49m\n\u001b[0;32m    183\u001b[0m \u001b[38;5;66;03m# Replace the property with the accessor object. Inspired by:\u001b[39;00m\n\u001b[0;32m    184\u001b[0m \u001b[38;5;66;03m# https://www.pydanny.com/cached-property.html\u001b[39;00m\n\u001b[0;32m    185\u001b[0m \u001b[38;5;66;03m# We need to use object.__setattr__ because we overwrite __setattr__ on\u001b[39;00m\n\u001b[0;32m    186\u001b[0m \u001b[38;5;66;03m# NDFrame\u001b[39;00m\n\u001b[0;32m    187\u001b[0m \u001b[38;5;28mobject\u001b[39m\u001b[38;5;241m.\u001b[39m\u001b[38;5;21m__setattr__\u001b[39m(obj, \u001b[38;5;28mself\u001b[39m\u001b[38;5;241m.\u001b[39m_name, accessor_obj)\n",
      "File \u001b[1;32m~\\AppData\\Local\\Programs\\Python\\Python310\\lib\\site-packages\\pandas\\core\\strings\\accessor.py:177\u001b[0m, in \u001b[0;36mStringMethods.__init__\u001b[1;34m(self, data)\u001b[0m\n\u001b[0;32m    174\u001b[0m \u001b[38;5;28;01mdef\u001b[39;00m \u001b[38;5;21m__init__\u001b[39m(\u001b[38;5;28mself\u001b[39m, data):\n\u001b[0;32m    175\u001b[0m     \u001b[38;5;28;01mfrom\u001b[39;00m \u001b[38;5;21;01mpandas\u001b[39;00m\u001b[38;5;21;01m.\u001b[39;00m\u001b[38;5;21;01mcore\u001b[39;00m\u001b[38;5;21;01m.\u001b[39;00m\u001b[38;5;21;01marrays\u001b[39;00m\u001b[38;5;21;01m.\u001b[39;00m\u001b[38;5;21;01mstring_\u001b[39;00m \u001b[38;5;28;01mimport\u001b[39;00m StringDtype\n\u001b[1;32m--> 177\u001b[0m     \u001b[38;5;28mself\u001b[39m\u001b[38;5;241m.\u001b[39m_inferred_dtype \u001b[38;5;241m=\u001b[39m \u001b[38;5;28;43mself\u001b[39;49m\u001b[38;5;241;43m.\u001b[39;49m\u001b[43m_validate\u001b[49m\u001b[43m(\u001b[49m\u001b[43mdata\u001b[49m\u001b[43m)\u001b[49m\n\u001b[0;32m    178\u001b[0m     \u001b[38;5;28mself\u001b[39m\u001b[38;5;241m.\u001b[39m_is_categorical \u001b[38;5;241m=\u001b[39m is_categorical_dtype(data\u001b[38;5;241m.\u001b[39mdtype)\n\u001b[0;32m    179\u001b[0m     \u001b[38;5;28mself\u001b[39m\u001b[38;5;241m.\u001b[39m_is_string \u001b[38;5;241m=\u001b[39m \u001b[38;5;28misinstance\u001b[39m(data\u001b[38;5;241m.\u001b[39mdtype, StringDtype)\n",
      "File \u001b[1;32m~\\AppData\\Local\\Programs\\Python\\Python310\\lib\\site-packages\\pandas\\core\\strings\\accessor.py:231\u001b[0m, in \u001b[0;36mStringMethods._validate\u001b[1;34m(data)\u001b[0m\n\u001b[0;32m    228\u001b[0m inferred_dtype \u001b[38;5;241m=\u001b[39m lib\u001b[38;5;241m.\u001b[39minfer_dtype(values, skipna\u001b[38;5;241m=\u001b[39m\u001b[38;5;28;01mTrue\u001b[39;00m)\n\u001b[0;32m    230\u001b[0m \u001b[38;5;28;01mif\u001b[39;00m inferred_dtype \u001b[38;5;129;01mnot\u001b[39;00m \u001b[38;5;129;01min\u001b[39;00m allowed_types:\n\u001b[1;32m--> 231\u001b[0m     \u001b[38;5;28;01mraise\u001b[39;00m \u001b[38;5;167;01mAttributeError\u001b[39;00m(\u001b[38;5;124m\"\u001b[39m\u001b[38;5;124mCan only use .str accessor with string values!\u001b[39m\u001b[38;5;124m\"\u001b[39m)\n\u001b[0;32m    232\u001b[0m \u001b[38;5;28;01mreturn\u001b[39;00m inferred_dtype\n",
      "\u001b[1;31mAttributeError\u001b[0m: Can only use .str accessor with string values!"
     ]
    }
   ],
   "source": [
    "# Turning values as they represents (Millions)\n",
    "\n",
    "imdb['Total_Gross'] = imdb['Total_Gross'].str.replace('$', '', regex=False).str.replace('M', '', regex=False)\n",
    "imdb['Total_Gross'] = imdb['Total_Gross'].astype(float) * 1000000"
   ]
  },
  {
   "cell_type": "code",
   "execution_count": 58,
   "id": "717eff1c-98a7-4cd3-95c0-9c103cb39d57",
   "metadata": {},
   "outputs": [
    {
     "data": {
      "text/html": [
       "<div>\n",
       "<style scoped>\n",
       "    .dataframe tbody tr th:only-of-type {\n",
       "        vertical-align: middle;\n",
       "    }\n",
       "\n",
       "    .dataframe tbody tr th {\n",
       "        vertical-align: top;\n",
       "    }\n",
       "\n",
       "    .dataframe thead th {\n",
       "        text-align: right;\n",
       "    }\n",
       "</style>\n",
       "<table border=\"1\" class=\"dataframe\">\n",
       "  <thead>\n",
       "    <tr style=\"text-align: right;\">\n",
       "      <th></th>\n",
       "      <th>Movie_Title</th>\n",
       "      <th>Year</th>\n",
       "      <th>Director</th>\n",
       "      <th>Actors</th>\n",
       "      <th>Rating</th>\n",
       "      <th>Runtime(Mins)</th>\n",
       "      <th>Censor</th>\n",
       "      <th>Total_Gross</th>\n",
       "      <th>main_genre</th>\n",
       "      <th>side_genre</th>\n",
       "    </tr>\n",
       "  </thead>\n",
       "  <tbody>\n",
       "    <tr>\n",
       "      <th>0</th>\n",
       "      <td>Kantara (2022) (2022)</td>\n",
       "      <td>2022</td>\n",
       "      <td>Rishab Shetty</td>\n",
       "      <td>Rishab Shetty, Sapthami Gowda, Kishore Kumar G...</td>\n",
       "      <td>9.3</td>\n",
       "      <td>148</td>\n",
       "      <td>UA</td>\n",
       "      <td>NaN</td>\n",
       "      <td>Action</td>\n",
       "      <td>Adventure,  Drama</td>\n",
       "    </tr>\n",
       "    <tr>\n",
       "      <th>1</th>\n",
       "      <td>The Dark Knight (2008) (2008)</td>\n",
       "      <td>2008</td>\n",
       "      <td>Christopher Nolan</td>\n",
       "      <td>Christian Bale, Heath Ledger, Aaron Eckhart, M...</td>\n",
       "      <td>9.0</td>\n",
       "      <td>152</td>\n",
       "      <td>UA</td>\n",
       "      <td>534860000.0</td>\n",
       "      <td>Action</td>\n",
       "      <td>Crime,  Drama</td>\n",
       "    </tr>\n",
       "    <tr>\n",
       "      <th>2</th>\n",
       "      <td>The Lord of the Rings: The Return of the King ...</td>\n",
       "      <td>2003</td>\n",
       "      <td>Peter Jackson</td>\n",
       "      <td>Elijah Wood, Viggo Mortensen, Ian McKellen, Or...</td>\n",
       "      <td>9.0</td>\n",
       "      <td>201</td>\n",
       "      <td>U</td>\n",
       "      <td>377850000.0</td>\n",
       "      <td>Action</td>\n",
       "      <td>Adventure,  Drama</td>\n",
       "    </tr>\n",
       "    <tr>\n",
       "      <th>3</th>\n",
       "      <td>Inception (2010) (2010)</td>\n",
       "      <td>2010</td>\n",
       "      <td>Christopher Nolan</td>\n",
       "      <td>Leonardo DiCaprio, Joseph Gordon-Levitt, Ellio...</td>\n",
       "      <td>8.8</td>\n",
       "      <td>148</td>\n",
       "      <td>UA</td>\n",
       "      <td>292580000.0</td>\n",
       "      <td>Action</td>\n",
       "      <td>Adventure,  Sci-Fi</td>\n",
       "    </tr>\n",
       "    <tr>\n",
       "      <th>4</th>\n",
       "      <td>The Lord of the Rings: The Two Towers (2002) (...</td>\n",
       "      <td>2002</td>\n",
       "      <td>Peter Jackson</td>\n",
       "      <td>Elijah Wood, Ian McKellen, Viggo Mortensen, Or...</td>\n",
       "      <td>8.8</td>\n",
       "      <td>179</td>\n",
       "      <td>UA</td>\n",
       "      <td>342550000.0</td>\n",
       "      <td>Action</td>\n",
       "      <td>Adventure,  Drama</td>\n",
       "    </tr>\n",
       "  </tbody>\n",
       "</table>\n",
       "</div>"
      ],
      "text/plain": [
       "                                         Movie_Title  Year           Director  \\\n",
       "0                              Kantara (2022) (2022)  2022      Rishab Shetty   \n",
       "1                      The Dark Knight (2008) (2008)  2008  Christopher Nolan   \n",
       "2  The Lord of the Rings: The Return of the King ...  2003      Peter Jackson   \n",
       "3                            Inception (2010) (2010)  2010  Christopher Nolan   \n",
       "4  The Lord of the Rings: The Two Towers (2002) (...  2002      Peter Jackson   \n",
       "\n",
       "                                              Actors  Rating  Runtime(Mins)  \\\n",
       "0  Rishab Shetty, Sapthami Gowda, Kishore Kumar G...     9.3            148   \n",
       "1  Christian Bale, Heath Ledger, Aaron Eckhart, M...     9.0            152   \n",
       "2  Elijah Wood, Viggo Mortensen, Ian McKellen, Or...     9.0            201   \n",
       "3  Leonardo DiCaprio, Joseph Gordon-Levitt, Ellio...     8.8            148   \n",
       "4  Elijah Wood, Ian McKellen, Viggo Mortensen, Or...     8.8            179   \n",
       "\n",
       "  Censor  Total_Gross main_genre           side_genre  \n",
       "0     UA          NaN     Action    Adventure,  Drama  \n",
       "1     UA  534860000.0     Action        Crime,  Drama  \n",
       "2      U  377850000.0     Action    Adventure,  Drama  \n",
       "3     UA  292580000.0     Action   Adventure,  Sci-Fi  \n",
       "4     UA  342550000.0     Action    Adventure,  Drama  "
      ]
     },
     "execution_count": 58,
     "metadata": {},
     "output_type": "execute_result"
    }
   ],
   "source": [
    "imdb.head()"
   ]
  },
  {
   "cell_type": "markdown",
   "id": "243920a6-75e8-45c9-95e5-6ad56b0564f0",
   "metadata": {},
   "source": [
    "<h3 style='text-align:center; background-color:darkgreen; color:white; padding:10px; margin:0px'>Duplicated Names</h3>"
   ]
  },
  {
   "cell_type": "code",
   "execution_count": 59,
   "id": "62529b28-ce08-4906-b806-35bcf2b9f2ab",
   "metadata": {},
   "outputs": [
    {
     "data": {
      "text/html": [
       "<div>\n",
       "<style scoped>\n",
       "    .dataframe tbody tr th:only-of-type {\n",
       "        vertical-align: middle;\n",
       "    }\n",
       "\n",
       "    .dataframe tbody tr th {\n",
       "        vertical-align: top;\n",
       "    }\n",
       "\n",
       "    .dataframe thead th {\n",
       "        text-align: right;\n",
       "    }\n",
       "</style>\n",
       "<table border=\"1\" class=\"dataframe\">\n",
       "  <thead>\n",
       "    <tr style=\"text-align: right;\">\n",
       "      <th></th>\n",
       "      <th>Movie_Title</th>\n",
       "      <th>Year</th>\n",
       "      <th>Director</th>\n",
       "      <th>Actors</th>\n",
       "      <th>Rating</th>\n",
       "      <th>Runtime(Mins)</th>\n",
       "      <th>Censor</th>\n",
       "      <th>Total_Gross</th>\n",
       "      <th>main_genre</th>\n",
       "      <th>side_genre</th>\n",
       "    </tr>\n",
       "  </thead>\n",
       "  <tbody>\n",
       "  </tbody>\n",
       "</table>\n",
       "</div>"
      ],
      "text/plain": [
       "Empty DataFrame\n",
       "Columns: [Movie_Title, Year, Director, Actors, Rating, Runtime(Mins), Censor, Total_Gross, main_genre, side_genre]\n",
       "Index: []"
      ]
     },
     "execution_count": 59,
     "metadata": {},
     "output_type": "execute_result"
    }
   ],
   "source": [
    "# looking for movies with the same name\n",
    "imdb[imdb['Movie_Title'].duplicated()].head()"
   ]
  },
  {
   "cell_type": "code",
   "execution_count": 52,
   "id": "dd1a3dc0-6db7-4def-9bb0-949a956169df",
   "metadata": {},
   "outputs": [],
   "source": [
    "# Adding Year in the Title to avoid duplicated names.\n",
    "\n",
    "imdb['Movie_Title'] = imdb['Movie_Title'] + ' (' + imdb['Year'].astype(str) + ')'"
   ]
  },
  {
   "cell_type": "code",
   "execution_count": 25,
   "id": "9c700057-e95b-4c8e-8105-9b563bd27882",
   "metadata": {},
   "outputs": [],
   "source": [
    "# Reseting index to be used as id_movie\n",
    "imdb.reset_index(drop=True)\n",
    "imdb.index.rename('id_movie', inplace=True)"
   ]
  },
  {
   "cell_type": "code",
   "execution_count": 26,
   "id": "cd81265a-eb84-466e-bb8a-b228bd4d8727",
   "metadata": {},
   "outputs": [],
   "source": [
    "# exporting to csv in order to be used in power bi\n",
    "\n",
    "imdb.to_csv('./files/imdb_threshed.csv', sep=';', index=True)"
   ]
  },
  {
   "cell_type": "markdown",
   "id": "cc70049d-ad49-4e56-af1d-c16ed2c8183c",
   "metadata": {},
   "source": [
    "<h3 style='text-align:center; background-color:darkgreen; color:white; padding:10px; margin:0px'>Actors</h3>"
   ]
  },
  {
   "cell_type": "code",
   "execution_count": 27,
   "id": "d79aefd0-aad4-4bc3-ab6c-39f1640d56b5",
   "metadata": {},
   "outputs": [],
   "source": [
    "movie_actors = imdb['Actors'].apply(lambda x: x.split(', '))\n",
    "movie_actors = actors.explode()\n",
    "movie_actors.rename('name', inplace=True)\n",
    "\n",
    "movie_actors.to_csv('files/movie_actors.csv', sep=';')"
   ]
  }
 ],
 "metadata": {
  "kernelspec": {
   "display_name": "Python 3 (ipykernel)",
   "language": "python",
   "name": "python3"
  },
  "language_info": {
   "codemirror_mode": {
    "name": "ipython",
    "version": 3
   },
   "file_extension": ".py",
   "mimetype": "text/x-python",
   "name": "python",
   "nbconvert_exporter": "python",
   "pygments_lexer": "ipython3",
   "version": "3.10.4"
  }
 },
 "nbformat": 4,
 "nbformat_minor": 5
}
