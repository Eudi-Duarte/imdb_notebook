{
 "cells": [
  {
   "cell_type": "markdown",
   "id": "853e2083-8a89-4053-b20f-9957bbd60f9a",
   "metadata": {},
   "source": [
    "<h1 style='text-align:center; background-color:darkgreen; color:white; padding:10px'>IMDB DataSet from Kaggle</h1>"
   ]
  },
  {
   "cell_type": "code",
   "execution_count": 148,
   "id": "318a4521-3578-4398-9632-6855b6f03363",
   "metadata": {},
   "outputs": [],
   "source": [
    "#IMPORT LIBRARIES\n",
    "import os \n",
    "import pandas as pd\n",
    "import numpy as np\n",
    "import matplotlib.pyplot as plt\n",
    "import re"
   ]
  },
  {
   "cell_type": "code",
   "execution_count": 2,
   "id": "df7e25b9-c876-49f5-8365-cf1401841091",
   "metadata": {},
   "outputs": [
    {
     "name": "stdout",
     "output_type": "stream",
     "text": [
      "files\\IMDb_All_Genres_etf_clean1.csv\n"
     ]
    }
   ],
   "source": [
    "#Getting the dataset's Path in the \"files\" directory\n",
    "for root, dirs, files in os.walk('files'):\n",
    "    for file in files:\n",
    "        print(os.path.join(root, file))"
   ]
  },
  {
   "cell_type": "code",
   "execution_count": 206,
   "id": "e8ac32fd-451b-4481-b865-3d5693bf8955",
   "metadata": {},
   "outputs": [],
   "source": [
    "#Reading data to a Pandas DataFrame\n",
    "#na_values = Strings that should be considered as null\n",
    "df = pd.read_csv('files\\IMDb_All_Genres_etf_clean1.csv', na_values=['', '-'])"
   ]
  },
  {
   "cell_type": "markdown",
   "id": "18d7e00d-23c6-4a24-a66d-922953c10632",
   "metadata": {},
   "source": [
    "<h2 style='text-align:center; background-color:darkgreen; color:white; padding:10px'>Preliminary Data analyzes</h2>"
   ]
  },
  {
   "cell_type": "code",
   "execution_count": 84,
   "id": "c1a29993-40e5-4aa8-a877-7aab7cb94bfa",
   "metadata": {},
   "outputs": [
    {
     "data": {
      "text/html": [
       "<div>\n",
       "<style scoped>\n",
       "    .dataframe tbody tr th:only-of-type {\n",
       "        vertical-align: middle;\n",
       "    }\n",
       "\n",
       "    .dataframe tbody tr th {\n",
       "        vertical-align: top;\n",
       "    }\n",
       "\n",
       "    .dataframe thead th {\n",
       "        text-align: right;\n",
       "    }\n",
       "</style>\n",
       "<table border=\"1\" class=\"dataframe\">\n",
       "  <thead>\n",
       "    <tr style=\"text-align: right;\">\n",
       "      <th></th>\n",
       "      <th>Movie_Title</th>\n",
       "      <th>Year</th>\n",
       "      <th>Director</th>\n",
       "      <th>Actors</th>\n",
       "      <th>Rating</th>\n",
       "      <th>Runtime(Mins)</th>\n",
       "      <th>Censor</th>\n",
       "      <th>Total_Gross</th>\n",
       "      <th>main_genre</th>\n",
       "      <th>side_genre</th>\n",
       "    </tr>\n",
       "  </thead>\n",
       "  <tbody>\n",
       "    <tr>\n",
       "      <th>0</th>\n",
       "      <td>Kantara</td>\n",
       "      <td>2022</td>\n",
       "      <td>Rishab Shetty</td>\n",
       "      <td>Rishab Shetty, Sapthami Gowda, Kishore Kumar G...</td>\n",
       "      <td>9.3</td>\n",
       "      <td>148</td>\n",
       "      <td>UA</td>\n",
       "      <td>NaN</td>\n",
       "      <td>Action</td>\n",
       "      <td>Adventure,  Drama</td>\n",
       "    </tr>\n",
       "    <tr>\n",
       "      <th>1</th>\n",
       "      <td>The Dark Knight</td>\n",
       "      <td>2008</td>\n",
       "      <td>Christopher Nolan</td>\n",
       "      <td>Christian Bale, Heath Ledger, Aaron Eckhart, M...</td>\n",
       "      <td>9.0</td>\n",
       "      <td>152</td>\n",
       "      <td>UA</td>\n",
       "      <td>$534.86M</td>\n",
       "      <td>Action</td>\n",
       "      <td>Crime,  Drama</td>\n",
       "    </tr>\n",
       "    <tr>\n",
       "      <th>2</th>\n",
       "      <td>The Lord of the Rings: The Return of the King</td>\n",
       "      <td>2003</td>\n",
       "      <td>Peter Jackson</td>\n",
       "      <td>Elijah Wood, Viggo Mortensen, Ian McKellen, Or...</td>\n",
       "      <td>9.0</td>\n",
       "      <td>201</td>\n",
       "      <td>U</td>\n",
       "      <td>$377.85M</td>\n",
       "      <td>Action</td>\n",
       "      <td>Adventure,  Drama</td>\n",
       "    </tr>\n",
       "    <tr>\n",
       "      <th>3</th>\n",
       "      <td>Inception</td>\n",
       "      <td>2010</td>\n",
       "      <td>Christopher Nolan</td>\n",
       "      <td>Leonardo DiCaprio, Joseph Gordon-Levitt, Ellio...</td>\n",
       "      <td>8.8</td>\n",
       "      <td>148</td>\n",
       "      <td>UA</td>\n",
       "      <td>$292.58M</td>\n",
       "      <td>Action</td>\n",
       "      <td>Adventure,  Sci-Fi</td>\n",
       "    </tr>\n",
       "    <tr>\n",
       "      <th>4</th>\n",
       "      <td>The Lord of the Rings: The Two Towers</td>\n",
       "      <td>2002</td>\n",
       "      <td>Peter Jackson</td>\n",
       "      <td>Elijah Wood, Ian McKellen, Viggo Mortensen, Or...</td>\n",
       "      <td>8.8</td>\n",
       "      <td>179</td>\n",
       "      <td>UA</td>\n",
       "      <td>$342.55M</td>\n",
       "      <td>Action</td>\n",
       "      <td>Adventure,  Drama</td>\n",
       "    </tr>\n",
       "  </tbody>\n",
       "</table>\n",
       "</div>"
      ],
      "text/plain": [
       "                                     Movie_Title  Year           Director  \\\n",
       "0                                        Kantara  2022      Rishab Shetty   \n",
       "1                                The Dark Knight  2008  Christopher Nolan   \n",
       "2  The Lord of the Rings: The Return of the King  2003      Peter Jackson   \n",
       "3                                      Inception  2010  Christopher Nolan   \n",
       "4          The Lord of the Rings: The Two Towers  2002      Peter Jackson   \n",
       "\n",
       "                                              Actors  Rating  Runtime(Mins)  \\\n",
       "0  Rishab Shetty, Sapthami Gowda, Kishore Kumar G...     9.3            148   \n",
       "1  Christian Bale, Heath Ledger, Aaron Eckhart, M...     9.0            152   \n",
       "2  Elijah Wood, Viggo Mortensen, Ian McKellen, Or...     9.0            201   \n",
       "3  Leonardo DiCaprio, Joseph Gordon-Levitt, Ellio...     8.8            148   \n",
       "4  Elijah Wood, Ian McKellen, Viggo Mortensen, Or...     8.8            179   \n",
       "\n",
       "  Censor Total_Gross main_genre           side_genre  \n",
       "0     UA         NaN     Action    Adventure,  Drama  \n",
       "1     UA    $534.86M     Action        Crime,  Drama  \n",
       "2      U    $377.85M     Action    Adventure,  Drama  \n",
       "3     UA    $292.58M     Action   Adventure,  Sci-Fi  \n",
       "4     UA    $342.55M     Action    Adventure,  Drama  "
      ]
     },
     "execution_count": 84,
     "metadata": {},
     "output_type": "execute_result"
    }
   ],
   "source": [
    "df.head()"
   ]
  },
  {
   "cell_type": "code",
   "execution_count": 75,
   "id": "bb6ce6e4-5a31-4b04-abc0-420477504f30",
   "metadata": {},
   "outputs": [
    {
     "data": {
      "text/plain": [
       "(5562, 10)"
      ]
     },
     "execution_count": 75,
     "metadata": {},
     "output_type": "execute_result"
    }
   ],
   "source": [
    "#shape = rows x columns\n",
    "df.shape"
   ]
  },
  {
   "cell_type": "code",
   "execution_count": 86,
   "id": "8dd530a2-ff6f-4b36-ad3d-4454efb6eddf",
   "metadata": {},
   "outputs": [
    {
     "name": "stdout",
     "output_type": "stream",
     "text": [
      "<class 'pandas.core.frame.DataFrame'>\n",
      "RangeIndex: 5562 entries, 0 to 5561\n",
      "Data columns (total 10 columns):\n",
      " #   Column         Non-Null Count  Dtype  \n",
      "---  ------         --------------  -----  \n",
      " 0   Movie_Title    5562 non-null   object \n",
      " 1   Year           5562 non-null   int64  \n",
      " 2   Director       5562 non-null   object \n",
      " 3   Actors         5562 non-null   object \n",
      " 4   Rating         5562 non-null   float64\n",
      " 5   Runtime(Mins)  5562 non-null   int64  \n",
      " 6   Censor         5562 non-null   object \n",
      " 7   Total_Gross    5562 non-null   object \n",
      " 8   main_genre     5562 non-null   object \n",
      " 9   side_genre     5562 non-null   object \n",
      "dtypes: float64(1), int64(2), object(7)\n",
      "memory usage: 434.7+ KB\n"
     ]
    }
   ],
   "source": [
    "#Information\n",
    "df.info()\n",
    "\n",
    "#Notice: \n",
    "    #that there is no null value anyway\n",
    "    #data types for numeric types are ok"
   ]
  },
  {
   "cell_type": "code",
   "execution_count": 45,
   "id": "0e9d0d88-9533-485e-a579-9f5e76d2141c",
   "metadata": {},
   "outputs": [
    {
     "data": {
      "text/html": [
       "<div>\n",
       "<style scoped>\n",
       "    .dataframe tbody tr th:only-of-type {\n",
       "        vertical-align: middle;\n",
       "    }\n",
       "\n",
       "    .dataframe tbody tr th {\n",
       "        vertical-align: top;\n",
       "    }\n",
       "\n",
       "    .dataframe thead th {\n",
       "        text-align: right;\n",
       "    }\n",
       "</style>\n",
       "<table border=\"1\" class=\"dataframe\">\n",
       "  <thead>\n",
       "    <tr style=\"text-align: right;\">\n",
       "      <th></th>\n",
       "      <th>Year</th>\n",
       "      <th>Rating</th>\n",
       "      <th>Runtime(Mins)</th>\n",
       "    </tr>\n",
       "  </thead>\n",
       "  <tbody>\n",
       "    <tr>\n",
       "      <th>Year</th>\n",
       "      <td>1.000000</td>\n",
       "      <td>-0.291711</td>\n",
       "      <td>0.022971</td>\n",
       "    </tr>\n",
       "    <tr>\n",
       "      <th>Rating</th>\n",
       "      <td>-0.291711</td>\n",
       "      <td>1.000000</td>\n",
       "      <td>0.323256</td>\n",
       "    </tr>\n",
       "    <tr>\n",
       "      <th>Runtime(Mins)</th>\n",
       "      <td>0.022971</td>\n",
       "      <td>0.323256</td>\n",
       "      <td>1.000000</td>\n",
       "    </tr>\n",
       "  </tbody>\n",
       "</table>\n",
       "</div>"
      ],
      "text/plain": [
       "                   Year    Rating  Runtime(Mins)\n",
       "Year           1.000000 -0.291711       0.022971\n",
       "Rating        -0.291711  1.000000       0.323256\n",
       "Runtime(Mins)  0.022971  0.323256       1.000000"
      ]
     },
     "execution_count": 45,
     "metadata": {},
     "output_type": "execute_result"
    }
   ],
   "source": [
    "#Correlation between columns\n",
    "df.corr(numeric_only=True)"
   ]
  },
  {
   "cell_type": "code",
   "execution_count": 53,
   "id": "1c5042f6-2329-4f31-9a72-bde5ae64c285",
   "metadata": {},
   "outputs": [
    {
     "data": {
      "text/html": [
       "<div>\n",
       "<style scoped>\n",
       "    .dataframe tbody tr th:only-of-type {\n",
       "        vertical-align: middle;\n",
       "    }\n",
       "\n",
       "    .dataframe tbody tr th {\n",
       "        vertical-align: top;\n",
       "    }\n",
       "\n",
       "    .dataframe thead th {\n",
       "        text-align: right;\n",
       "    }\n",
       "</style>\n",
       "<table border=\"1\" class=\"dataframe\">\n",
       "  <thead>\n",
       "    <tr style=\"text-align: right;\">\n",
       "      <th></th>\n",
       "      <th>Year</th>\n",
       "      <th>Rating</th>\n",
       "      <th>Runtime(Mins)</th>\n",
       "    </tr>\n",
       "  </thead>\n",
       "  <tbody>\n",
       "    <tr>\n",
       "      <th>count</th>\n",
       "      <td>5562.000000</td>\n",
       "      <td>5562.000000</td>\n",
       "      <td>5562.000000</td>\n",
       "    </tr>\n",
       "    <tr>\n",
       "      <th>mean</th>\n",
       "      <td>2002.792521</td>\n",
       "      <td>6.755861</td>\n",
       "      <td>112.226717</td>\n",
       "    </tr>\n",
       "    <tr>\n",
       "      <th>std</th>\n",
       "      <td>16.143990</td>\n",
       "      <td>0.937133</td>\n",
       "      <td>21.612655</td>\n",
       "    </tr>\n",
       "    <tr>\n",
       "      <th>min</th>\n",
       "      <td>1920.000000</td>\n",
       "      <td>1.000000</td>\n",
       "      <td>45.000000</td>\n",
       "    </tr>\n",
       "    <tr>\n",
       "      <th>25%</th>\n",
       "      <td>1997.000000</td>\n",
       "      <td>6.200000</td>\n",
       "      <td>97.000000</td>\n",
       "    </tr>\n",
       "    <tr>\n",
       "      <th>50%</th>\n",
       "      <td>2007.000000</td>\n",
       "      <td>6.800000</td>\n",
       "      <td>108.000000</td>\n",
       "    </tr>\n",
       "    <tr>\n",
       "      <th>75%</th>\n",
       "      <td>2014.000000</td>\n",
       "      <td>7.400000</td>\n",
       "      <td>123.000000</td>\n",
       "    </tr>\n",
       "    <tr>\n",
       "      <th>max</th>\n",
       "      <td>2022.000000</td>\n",
       "      <td>9.300000</td>\n",
       "      <td>321.000000</td>\n",
       "    </tr>\n",
       "  </tbody>\n",
       "</table>\n",
       "</div>"
      ],
      "text/plain": [
       "              Year       Rating  Runtime(Mins)\n",
       "count  5562.000000  5562.000000    5562.000000\n",
       "mean   2002.792521     6.755861     112.226717\n",
       "std      16.143990     0.937133      21.612655\n",
       "min    1920.000000     1.000000      45.000000\n",
       "25%    1997.000000     6.200000      97.000000\n",
       "50%    2007.000000     6.800000     108.000000\n",
       "75%    2014.000000     7.400000     123.000000\n",
       "max    2022.000000     9.300000     321.000000"
      ]
     },
     "execution_count": 53,
     "metadata": {},
     "output_type": "execute_result"
    }
   ],
   "source": [
    "#Statistical Information\n",
    "df.describe()\n",
    "\n",
    "#Notice that although There is no corelation betweem columns, there ir a correlation between number of movies and their year. Despite the oldest movie is from 1920, just 25% of them are from before 1997. This will be ilustrated at the chart down below."
   ]
  },
  {
   "cell_type": "markdown",
   "id": "c74f0be5-8d9f-4962-a385-081cc4219952",
   "metadata": {},
   "source": [
    "<h2 style='text-align:center; background-color:darkgreen; color:white; padding:10px'>Visualizations</h2>"
   ]
  },
  {
   "cell_type": "code",
   "execution_count": 36,
   "id": "b34fa9cf-6075-432f-8f4f-ee8a8eb61d63",
   "metadata": {},
   "outputs": [
    {
     "data": {
      "image/png": "[encoded data removed]",
      "text/plain": [
       "<Figure size 900x400 with 1 Axes>"
      ]
     },
     "metadata": {},
     "output_type": "display_data"
    }
   ],
   "source": [
    "#Chart to explain the point at the last commentary\n",
    "plt.figure(num=0, figsize=(9,4))\n",
    "plt.bar(df['Year'].value_counts().index, df['Year'].value_counts().values)\n",
    "plt.title('Quantity of Movies by Year')\n",
    "plt.show()"
   ]
  },
  {
   "cell_type": "code",
   "execution_count": 41,
   "id": "c6529e7d-3b65-47c3-b7d5-a8a3ca2229a5",
   "metadata": {},
   "outputs": [
    {
     "data": {
      "image/png": "[encoded data removed]",
      "text/plain": [
       "<Figure size 900x400 with 1 Axes>"
      ]
     },
     "metadata": {},
     "output_type": "display_data"
    }
   ],
   "source": [
    "#Top 5 directors in quantity of movies\n",
    "plt.figure(figsize=(9,4))\n",
    "plt.bar(df['Director'].value_counts()[:5].index, df['Director'].value_counts()[:5].values)\n",
    "plt.title('Top 5 Directors whit most movies')\n",
    "plt.show()"
   ]
  },
  {
   "cell_type": "code",
   "execution_count": 58,
   "id": "4c92284b-0e7d-442d-8dc9-81ef208247c5",
   "metadata": {},
   "outputs": [
    {
     "data": {
      "image/png": "[encoded data removed]",
      "text/plain": [
       "<Figure size 1100x400 with 1 Axes>"
      ]
     },
     "metadata": {},
     "output_type": "display_data"
    }
   ],
   "source": [
    "#Top 5 directors in mean rating\n",
    "top_directors_rt = df.groupby('Director')['Rating'].mean().sort_values(ascending=False)[:5]\n",
    "plt.figure(figsize=(11,4))\n",
    "plt.bar(top_directors_rt.index, top_directors_rt.values)\n",
    "plt.title('Top Directors by Mean Rating')\n",
    "plt.show()"
   ]
  },
  {
   "cell_type": "code",
   "execution_count": 6,
   "id": "310b9709-9f58-4b53-a590-fd99e6fc5892",
   "metadata": {},
   "outputs": [
    {
     "data": {
      "text/html": [
       "<div>\n",
       "<style scoped>\n",
       "    .dataframe tbody tr th:only-of-type {\n",
       "        vertical-align: middle;\n",
       "    }\n",
       "\n",
       "    .dataframe tbody tr th {\n",
       "        vertical-align: top;\n",
       "    }\n",
       "\n",
       "    .dataframe thead th {\n",
       "        text-align: right;\n",
       "    }\n",
       "</style>\n",
       "<table border=\"1\" class=\"dataframe\">\n",
       "  <thead>\n",
       "    <tr style=\"text-align: right;\">\n",
       "      <th></th>\n",
       "      <th>Movie_Title</th>\n",
       "      <th>Rating</th>\n",
       "    </tr>\n",
       "  </thead>\n",
       "  <tbody>\n",
       "    <tr>\n",
       "      <th>0</th>\n",
       "      <td>Kantara</td>\n",
       "      <td>9.3</td>\n",
       "    </tr>\n",
       "    <tr>\n",
       "      <th>3448</th>\n",
       "      <td>The Shawshank Redemption</td>\n",
       "      <td>9.3</td>\n",
       "    </tr>\n",
       "    <tr>\n",
       "      <th>3449</th>\n",
       "      <td>Hababam Sinifi</td>\n",
       "      <td>9.2</td>\n",
       "    </tr>\n",
       "    <tr>\n",
       "      <th>2253</th>\n",
       "      <td>The Godfather</td>\n",
       "      <td>9.2</td>\n",
       "    </tr>\n",
       "    <tr>\n",
       "      <th>2</th>\n",
       "      <td>The Lord of the Rings: The Return of the King</td>\n",
       "      <td>9.0</td>\n",
       "    </tr>\n",
       "  </tbody>\n",
       "</table>\n",
       "</div>"
      ],
      "text/plain": [
       "                                        Movie_Title  Rating\n",
       "0                                           Kantara     9.3\n",
       "3448                       The Shawshank Redemption     9.3\n",
       "3449                                 Hababam Sinifi     9.2\n",
       "2253                                  The Godfather     9.2\n",
       "2     The Lord of the Rings: The Return of the King     9.0"
      ]
     },
     "execution_count": 6,
     "metadata": {},
     "output_type": "execute_result"
    }
   ],
   "source": [
    "#TOP Movies by Rating\n",
    "df.sort_values('Rating', ascending=False)[['Movie_Title', 'Rating']][:5]"
   ]
  },
  {
   "cell_type": "code",
   "execution_count": 77,
   "id": "9f50bc4e-53f0-405d-8433-c42ff21ebc9a",
   "metadata": {},
   "outputs": [
    {
     "data": {
      "text/plain": [
       "Robert De Niro       61\n",
       "Tom Hanks            49\n",
       "Samuel L. Jackson    48\n",
       "Nicolas Cage         47\n",
       "Johnny Depp          42\n",
       "dtype: int64"
      ]
     },
     "execution_count": 77,
     "metadata": {},
     "output_type": "execute_result"
    }
   ],
   "source": [
    "#TOP Actors with most appearances\n",
    "\n",
    "actors = df['Actors']\n",
    "pd.Series(', '.join(list(actors)).split(', ')).value_counts()[:5]"
   ]
  },
  {
   "cell_type": "markdown",
   "id": "280835cb-b9fa-41e4-b375-42a782759604",
   "metadata": {},
   "source": [
    "<h2 style='text-align:center; background-color:darkgreen; color:white; padding:10px; margin:0px'>Total Gross</h2>\n",
    "<h3 style='text-align:center; background-color:darkgreen; color:white; padding:10px; margin:0px'>Feature Engineering</h3>"
   ]
  },
  {
   "cell_type": "markdown",
   "id": "db515384-52e0-4601-82c7-2157d53f0d8b",
   "metadata": {},
   "source": [
    "<p>\n",
    "    <ol>\n",
    "        <li>First, to order by the total gross, whe have to change the type into a numeric type. As whe can see, there is a dollar sign in the left and a 'M' at the end that probably means Million.</li> \n",
    "        <li>Then, lets check if all the rows match this pattern in the step 1. </li>\n",
    "        <li>Then, lets drop the non-pattern values. At least, lets order by the float conversion of the values.</li>\n",
    "    </ol>\n",
    "</p>"
   ]
  },
  {
   "cell_type": "code",
   "execution_count": 198,
   "id": "8483651e-2fe5-4fb3-abcf-90922acc2c2f",
   "metadata": {},
   "outputs": [
    {
     "data": {
      "text/plain": [
       "Gross Unkown    861\n",
       "Name: Total_Gross, dtype: int64"
      ]
     },
     "execution_count": 198,
     "metadata": {},
     "output_type": "execute_result"
    }
   ],
   "source": [
    "# Step 1\n",
    "#We already know that there is no null value.\n",
    "#Now we know that there is no other possibility: either it are in the patter '$123.45M' or it is 'Gross unknow'\n",
    "\n",
    "df.loc[~df['Total_Gross'].str.contains(r'^\\$[0-9.]+M$')]['Total_Gross'].value_counts()"
   ]
  },
  {
   "cell_type": "code",
   "execution_count": 223,
   "id": "2b28b3aa-a626-4908-ba63-728cbce16a74",
   "metadata": {},
   "outputs": [],
   "source": [
    "#Step 2\n",
    "#Lets remove the 861 rowns whit the 'Gross Unknow'\n",
    "\n",
    "gross = df.drop(df.loc[df['Total_Gross'] == 'Gross Unkown'].index)"
   ]
  },
  {
   "cell_type": "code",
   "execution_count": 257,
   "id": "ed1458b1-e020-4bc2-8e82-9e1efc21099e",
   "metadata": {},
   "outputs": [
    {
     "data": {
      "text/html": [
       "<div>\n",
       "<style scoped>\n",
       "    .dataframe tbody tr th:only-of-type {\n",
       "        vertical-align: middle;\n",
       "    }\n",
       "\n",
       "    .dataframe tbody tr th {\n",
       "        vertical-align: top;\n",
       "    }\n",
       "\n",
       "    .dataframe thead th {\n",
       "        text-align: right;\n",
       "    }\n",
       "</style>\n",
       "<table border=\"1\" class=\"dataframe\">\n",
       "  <thead>\n",
       "    <tr style=\"text-align: right;\">\n",
       "      <th></th>\n",
       "      <th>Movie_Title</th>\n",
       "      <th>Year</th>\n",
       "      <th>Director</th>\n",
       "      <th>Actors</th>\n",
       "      <th>Rating</th>\n",
       "      <th>Runtime(Mins)</th>\n",
       "      <th>Censor</th>\n",
       "      <th>Total_Gross</th>\n",
       "      <th>main_genre</th>\n",
       "      <th>side_genre</th>\n",
       "    </tr>\n",
       "  </thead>\n",
       "  <tbody>\n",
       "    <tr>\n",
       "      <th>130</th>\n",
       "      <td>Star Wars: Episode VII - The Force Awakens</td>\n",
       "      <td>2015</td>\n",
       "      <td>J.J. Abrams</td>\n",
       "      <td>Daisy Ridley, John Boyega, Oscar Isaac, Domhna...</td>\n",
       "      <td>7.8</td>\n",
       "      <td>138</td>\n",
       "      <td>U</td>\n",
       "      <td>$936.66M</td>\n",
       "      <td>Action</td>\n",
       "      <td>Adventure,  Sci-Fi</td>\n",
       "    </tr>\n",
       "    <tr>\n",
       "      <th>19</th>\n",
       "      <td>Avengers: Endgame</td>\n",
       "      <td>2019</td>\n",
       "      <td>Directors:Anthony Russo, Joe Russo</td>\n",
       "      <td>Robert Downey Jr., Chris Evans, Mark Ruffalo, ...</td>\n",
       "      <td>8.4</td>\n",
       "      <td>181</td>\n",
       "      <td>UA</td>\n",
       "      <td>$858.37M</td>\n",
       "      <td>Action</td>\n",
       "      <td>Adventure,  Drama</td>\n",
       "    </tr>\n",
       "    <tr>\n",
       "      <th>31</th>\n",
       "      <td>Spider-Man: No Way Home</td>\n",
       "      <td>2021</td>\n",
       "      <td>Jon Watts</td>\n",
       "      <td>Tom Holland, Zendaya, Benedict Cumberbatch, Ja...</td>\n",
       "      <td>8.3</td>\n",
       "      <td>148</td>\n",
       "      <td>UA</td>\n",
       "      <td>$804.75M</td>\n",
       "      <td>Action</td>\n",
       "      <td>Adventure,  Fantasy</td>\n",
       "    </tr>\n",
       "    <tr>\n",
       "      <th>142</th>\n",
       "      <td>Avatar</td>\n",
       "      <td>2009</td>\n",
       "      <td>James Cameron</td>\n",
       "      <td>Sam Worthington, Zoe Saldana, Sigourney Weaver...</td>\n",
       "      <td>7.8</td>\n",
       "      <td>162</td>\n",
       "      <td>UA</td>\n",
       "      <td>$760.51M</td>\n",
       "      <td>Action</td>\n",
       "      <td>Adventure,  Fantasy</td>\n",
       "    </tr>\n",
       "    <tr>\n",
       "      <th>317</th>\n",
       "      <td>Black Panther</td>\n",
       "      <td>2018</td>\n",
       "      <td>Ryan Coogler</td>\n",
       "      <td>Chadwick Boseman, Michael B. Jordan, Lupita Ny...</td>\n",
       "      <td>7.3</td>\n",
       "      <td>134</td>\n",
       "      <td>UA</td>\n",
       "      <td>$700.06M</td>\n",
       "      <td>Action</td>\n",
       "      <td>Adventure,  Sci-Fi</td>\n",
       "    </tr>\n",
       "  </tbody>\n",
       "</table>\n",
       "</div>"
      ],
      "text/plain": [
       "                                    Movie_Title  Year  \\\n",
       "130  Star Wars: Episode VII - The Force Awakens  2015   \n",
       "19                            Avengers: Endgame  2019   \n",
       "31                      Spider-Man: No Way Home  2021   \n",
       "142                                      Avatar  2009   \n",
       "317                               Black Panther  2018   \n",
       "\n",
       "                               Director  \\\n",
       "130                         J.J. Abrams   \n",
       "19   Directors:Anthony Russo, Joe Russo   \n",
       "31                            Jon Watts   \n",
       "142                       James Cameron   \n",
       "317                        Ryan Coogler   \n",
       "\n",
       "                                                Actors  Rating  Runtime(Mins)  \\\n",
       "130  Daisy Ridley, John Boyega, Oscar Isaac, Domhna...     7.8            138   \n",
       "19   Robert Downey Jr., Chris Evans, Mark Ruffalo, ...     8.4            181   \n",
       "31   Tom Holland, Zendaya, Benedict Cumberbatch, Ja...     8.3            148   \n",
       "142  Sam Worthington, Zoe Saldana, Sigourney Weaver...     7.8            162   \n",
       "317  Chadwick Boseman, Michael B. Jordan, Lupita Ny...     7.3            134   \n",
       "\n",
       "    Censor Total_Gross main_genre            side_genre  \n",
       "130      U    $936.66M     Action    Adventure,  Sci-Fi  \n",
       "19      UA    $858.37M     Action     Adventure,  Drama  \n",
       "31      UA    $804.75M     Action   Adventure,  Fantasy  \n",
       "142     UA    $760.51M     Action   Adventure,  Fantasy  \n",
       "317     UA    $700.06M     Action    Adventure,  Sci-Fi  "
      ]
     },
     "execution_count": 257,
     "metadata": {},
     "output_type": "execute_result"
    }
   ],
   "source": [
    "# Finaly, lets Sort by the float values\n",
    "\n",
    "gross.sort_values('Total_Gross', ascending=False, key=lambda x: x.str.extract(r'([0-9.]+)', expand=False).astype(float)).head(5)"
   ]
  }
 ],
 "metadata": {
  "kernelspec": {
   "display_name": "Python 3 (ipykernel)",
   "language": "python",
   "name": "python3"
  },
  "language_info": {
   "codemirror_mode": {
    "name": "ipython",
    "version": 3
   },
   "file_extension": ".py",
   "mimetype": "text/x-python",
   "name": "python",
   "nbconvert_exporter": "python",
   "pygments_lexer": "ipython3",
   "version": "3.10.6"
  }
 },
 "nbformat": 4,
 "nbformat_minor": 5
}
