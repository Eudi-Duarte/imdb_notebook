{
 "cells": [
  {
   "cell_type": "code",
   "execution_count": 119,
   "id": "318a4521-3578-4398-9632-6855b6f03363",
   "metadata": {},
   "outputs": [
    {
     "name": "stdout",
     "output_type": "stream",
     "text": [
      "files\\IMDb_All_Genres_etf_clean1.csv\n"
     ]
    }
   ],
   "source": [
    "import os \n",
    "import pandas as pd\n",
    "import matplotlib.pyplot as plt\n",
    "\n",
    "for root, dirs, files in os.walk('files'):\n",
    "    for file in files:\n",
    "        print(os.path.join(root, file))"
   ]
  },
  {
   "cell_type": "code",
   "execution_count": 120,
   "id": "e8ac32fd-451b-4481-b865-3d5693bf8955",
   "metadata": {},
   "outputs": [],
   "source": [
    "#Reading data to a Pandas DataFrame\n",
    "df = pd.read_csv('files\\IMDb_All_Genres_etf_clean1.csv')"
   ]
  },
  {
   "cell_type": "markdown",
   "id": "18d7e00d-23c6-4a24-a66d-922953c10632",
   "metadata": {},
   "source": [
    "<h2>Preliminary Data analyzes</h2>"
   ]
  },
  {
   "cell_type": "code",
   "execution_count": 121,
   "id": "bb6ce6e4-5a31-4b04-abc0-420477504f30",
   "metadata": {},
   "outputs": [
    {
     "data": {
      "text/plain": [
       "(5562, 10)"
      ]
     },
     "execution_count": 121,
     "metadata": {},
     "output_type": "execute_result"
    }
   ],
   "source": [
    "#shape = rows x columns\n",
    "df.shape"
   ]
  },
  {
   "cell_type": "code",
   "execution_count": 122,
   "id": "8dd530a2-ff6f-4b36-ad3d-4454efb6eddf",
   "metadata": {},
   "outputs": [
    {
     "name": "stdout",
     "output_type": "stream",
     "text": [
      "<class 'pandas.core.frame.DataFrame'>\n",
      "RangeIndex: 5562 entries, 0 to 5561\n",
      "Data columns (total 10 columns):\n",
      " #   Column         Non-Null Count  Dtype  \n",
      "---  ------         --------------  -----  \n",
      " 0   Movie_Title    5562 non-null   object \n",
      " 1   Year           5562 non-null   int64  \n",
      " 2   Director       5562 non-null   object \n",
      " 3   Actors         5562 non-null   object \n",
      " 4   Rating         5562 non-null   float64\n",
      " 5   Runtime(Mins)  5562 non-null   int64  \n",
      " 6   Censor         5562 non-null   object \n",
      " 7   Total_Gross    5562 non-null   object \n",
      " 8   main_genre     5562 non-null   object \n",
      " 9   side_genre     5562 non-null   object \n",
      "dtypes: float64(1), int64(2), object(7)\n",
      "memory usage: 434.7+ KB\n"
     ]
    }
   ],
   "source": [
    "#Information\n",
    "df.info()\n",
    "\n",
    "#Notice: \n",
    "    #that there is no null value anyway\n",
    "    #data types for numeric types are ok"
   ]
  },
  {
   "cell_type": "code",
   "execution_count": 45,
   "id": "0e9d0d88-9533-485e-a579-9f5e76d2141c",
   "metadata": {},
   "outputs": [
    {
     "data": {
      "text/html": [
       "<div>\n",
       "<style scoped>\n",
       "    .dataframe tbody tr th:only-of-type {\n",
       "        vertical-align: middle;\n",
       "    }\n",
       "\n",
       "    .dataframe tbody tr th {\n",
       "        vertical-align: top;\n",
       "    }\n",
       "\n",
       "    .dataframe thead th {\n",
       "        text-align: right;\n",
       "    }\n",
       "</style>\n",
       "<table border=\"1\" class=\"dataframe\">\n",
       "  <thead>\n",
       "    <tr style=\"text-align: right;\">\n",
       "      <th></th>\n",
       "      <th>Year</th>\n",
       "      <th>Rating</th>\n",
       "      <th>Runtime(Mins)</th>\n",
       "    </tr>\n",
       "  </thead>\n",
       "  <tbody>\n",
       "    <tr>\n",
       "      <th>Year</th>\n",
       "      <td>1.000000</td>\n",
       "      <td>-0.291711</td>\n",
       "      <td>0.022971</td>\n",
       "    </tr>\n",
       "    <tr>\n",
       "      <th>Rating</th>\n",
       "      <td>-0.291711</td>\n",
       "      <td>1.000000</td>\n",
       "      <td>0.323256</td>\n",
       "    </tr>\n",
       "    <tr>\n",
       "      <th>Runtime(Mins)</th>\n",
       "      <td>0.022971</td>\n",
       "      <td>0.323256</td>\n",
       "      <td>1.000000</td>\n",
       "    </tr>\n",
       "  </tbody>\n",
       "</table>\n",
       "</div>"
      ],
      "text/plain": [
       "                   Year    Rating  Runtime(Mins)\n",
       "Year           1.000000 -0.291711       0.022971\n",
       "Rating        -0.291711  1.000000       0.323256\n",
       "Runtime(Mins)  0.022971  0.323256       1.000000"
      ]
     },
     "execution_count": 45,
     "metadata": {},
     "output_type": "execute_result"
    }
   ],
   "source": [
    "#Correlation between columns\n",
    "df.corr(numeric_only=True)"
   ]
  },
  {
   "cell_type": "code",
   "execution_count": 53,
   "id": "1c5042f6-2329-4f31-9a72-bde5ae64c285",
   "metadata": {},
   "outputs": [
    {
     "data": {
      "text/html": [
       "<div>\n",
       "<style scoped>\n",
       "    .dataframe tbody tr th:only-of-type {\n",
       "        vertical-align: middle;\n",
       "    }\n",
       "\n",
       "    .dataframe tbody tr th {\n",
       "        vertical-align: top;\n",
       "    }\n",
       "\n",
       "    .dataframe thead th {\n",
       "        text-align: right;\n",
       "    }\n",
       "</style>\n",
       "<table border=\"1\" class=\"dataframe\">\n",
       "  <thead>\n",
       "    <tr style=\"text-align: right;\">\n",
       "      <th></th>\n",
       "      <th>Year</th>\n",
       "      <th>Rating</th>\n",
       "      <th>Runtime(Mins)</th>\n",
       "    </tr>\n",
       "  </thead>\n",
       "  <tbody>\n",
       "    <tr>\n",
       "      <th>count</th>\n",
       "      <td>5562.000000</td>\n",
       "      <td>5562.000000</td>\n",
       "      <td>5562.000000</td>\n",
       "    </tr>\n",
       "    <tr>\n",
       "      <th>mean</th>\n",
       "      <td>2002.792521</td>\n",
       "      <td>6.755861</td>\n",
       "      <td>112.226717</td>\n",
       "    </tr>\n",
       "    <tr>\n",
       "      <th>std</th>\n",
       "      <td>16.143990</td>\n",
       "      <td>0.937133</td>\n",
       "      <td>21.612655</td>\n",
       "    </tr>\n",
       "    <tr>\n",
       "      <th>min</th>\n",
       "      <td>1920.000000</td>\n",
       "      <td>1.000000</td>\n",
       "      <td>45.000000</td>\n",
       "    </tr>\n",
       "    <tr>\n",
       "      <th>25%</th>\n",
       "      <td>1997.000000</td>\n",
       "      <td>6.200000</td>\n",
       "      <td>97.000000</td>\n",
       "    </tr>\n",
       "    <tr>\n",
       "      <th>50%</th>\n",
       "      <td>2007.000000</td>\n",
       "      <td>6.800000</td>\n",
       "      <td>108.000000</td>\n",
       "    </tr>\n",
       "    <tr>\n",
       "      <th>75%</th>\n",
       "      <td>2014.000000</td>\n",
       "      <td>7.400000</td>\n",
       "      <td>123.000000</td>\n",
       "    </tr>\n",
       "    <tr>\n",
       "      <th>max</th>\n",
       "      <td>2022.000000</td>\n",
       "      <td>9.300000</td>\n",
       "      <td>321.000000</td>\n",
       "    </tr>\n",
       "  </tbody>\n",
       "</table>\n",
       "</div>"
      ],
      "text/plain": [
       "              Year       Rating  Runtime(Mins)\n",
       "count  5562.000000  5562.000000    5562.000000\n",
       "mean   2002.792521     6.755861     112.226717\n",
       "std      16.143990     0.937133      21.612655\n",
       "min    1920.000000     1.000000      45.000000\n",
       "25%    1997.000000     6.200000      97.000000\n",
       "50%    2007.000000     6.800000     108.000000\n",
       "75%    2014.000000     7.400000     123.000000\n",
       "max    2022.000000     9.300000     321.000000"
      ]
     },
     "execution_count": 53,
     "metadata": {},
     "output_type": "execute_result"
    }
   ],
   "source": [
    "#Statistical Information\n",
    "df.describe()\n",
    "\n",
    "#Notice that although There is no corelation betweem columns, there ir a correlation between number of movies and their year. Despite the oldest movie is from 1920, just 25% of them are from before 1997. This will be ilustrated at the chart down below."
   ]
  },
  {
   "cell_type": "code",
   "execution_count": 212,
   "id": "b34fa9cf-6075-432f-8f4f-ee8a8eb61d63",
   "metadata": {},
   "outputs": [
    {
     "data": {
      "image/png": "[encoded data removed]",
      "text/plain": [
       "<Figure size 640x480 with 1 Axes>"
      ]
     },
     "metadata": {},
     "output_type": "display_data"
    }
   ],
   "source": [
    "#Chart to explain the point above\n",
    "qtd_year = df.groupby('Year')['Year'].count().reset_index(name='qtd')\n",
    "plt.bar(df['Year'].value_counts().index, df['Year'].value_counts().values)\n",
    "plt.title('Quantity of Movies by Year')\n",
    "plt.show()"
   ]
  },
  {
   "cell_type": "code",
   "execution_count": null,
   "id": "c6529e7d-3b65-47c3-b7d5-a8a3ca2229a5",
   "metadata": {},
   "outputs": [],
   "source": []
  }
 ],
 "metadata": {
  "kernelspec": {
   "display_name": "Python 3 (ipykernel)",
   "language": "python",
   "name": "python3"
  },
  "language_info": {
   "codemirror_mode": {
    "name": "ipython",
    "version": 3
   },
   "file_extension": ".py",
   "mimetype": "text/x-python",
   "name": "python",
   "nbconvert_exporter": "python",
   "pygments_lexer": "ipython3",
   "version": "3.10.6"
  }
 },
 "nbformat": 4,
 "nbformat_minor": 5
}
