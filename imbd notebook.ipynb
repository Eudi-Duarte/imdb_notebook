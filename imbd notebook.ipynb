{
 "cells": [
  {
   "cell_type": "markdown",
   "id": "853e2083-8a89-4053-b20f-9957bbd60f9a",
   "metadata": {},
   "source": [
    "<h1 style='text-align:center; background-color:darkgreen; color:white; padding:10px'>IMDB DataSet from Kaggle</h1>"
   ]
  },
  {
   "cell_type": "code",
   "execution_count": 1,
   "id": "318a4521-3578-4398-9632-6855b6f03363",
   "metadata": {},
   "outputs": [],
   "source": [
    "#IMPORT LIBRARIES\n",
    "import os \n",
    "import pandas as pd\n",
    "import numpy as np\n",
    "import matplotlib.pyplot as plt\n",
    "import re"
   ]
  },
  {
   "cell_type": "code",
   "execution_count": 2,
   "id": "df7e25b9-c876-49f5-8365-cf1401841091",
   "metadata": {
    "tags": []
   },
   "outputs": [
    {
     "name": "stdout",
     "output_type": "stream",
     "text": [
      "files\\IMDb_All_Genres_etf_clean1.csv\n",
      "files\\imdb_threshed.csv\n",
      "files\\netflix_titles.csv\n",
      "files\\.ipynb_checkpoints\\IMDb_All_Genres_etf_clean1-checkpoint.csv\n",
      "files\\.ipynb_checkpoints\\imdb_threshed-checkpoint.csv\n"
     ]
    }
   ],
   "source": [
    "#Getting the dataset's Path in the \"files\" directory\n",
    "for root, dirs, files in os.walk('files'):\n",
    "    for file in files:\n",
    "        print(os.path.join(root, file))"
   ]
  },
  {
   "cell_type": "code",
   "execution_count": 26,
   "id": "e8ac32fd-451b-4481-b865-3d5693bf8955",
   "metadata": {},
   "outputs": [],
   "source": [
    "#Reading data to a Pandas DataFrame\n",
    "#na_values = Strings that should be considered as null\n",
    "imdb = pd.read_csv('files\\IMDb_All_Genres_etf_clean1.csv', na_values=['', '-'])"
   ]
  },
  {
   "cell_type": "markdown",
   "id": "18d7e00d-23c6-4a24-a66d-922953c10632",
   "metadata": {},
   "source": [
    "<h2 style='text-align:center; background-color:darkgreen; color:white; padding:10px'>Preliminary Data analyzes</h2>"
   ]
  },
  {
   "cell_type": "code",
   "execution_count": 4,
   "id": "c1a29993-40e5-4aa8-a877-7aab7cb94bfa",
   "metadata": {},
   "outputs": [
    {
     "data": {
      "text/html": [
       "<div>\n",
       "<style scoped>\n",
       "    .dataframe tbody tr th:only-of-type {\n",
       "        vertical-align: middle;\n",
       "    }\n",
       "\n",
       "    .dataframe tbody tr th {\n",
       "        vertical-align: top;\n",
       "    }\n",
       "\n",
       "    .dataframe thead th {\n",
       "        text-align: right;\n",
       "    }\n",
       "</style>\n",
       "<table border=\"1\" class=\"dataframe\">\n",
       "  <thead>\n",
       "    <tr style=\"text-align: right;\">\n",
       "      <th></th>\n",
       "      <th>Movie_Title</th>\n",
       "      <th>Year</th>\n",
       "      <th>Director</th>\n",
       "      <th>Actors</th>\n",
       "      <th>Rating</th>\n",
       "      <th>Runtime(Mins)</th>\n",
       "      <th>Censor</th>\n",
       "      <th>Total_Gross</th>\n",
       "      <th>main_genre</th>\n",
       "      <th>side_genre</th>\n",
       "    </tr>\n",
       "  </thead>\n",
       "  <tbody>\n",
       "    <tr>\n",
       "      <th>0</th>\n",
       "      <td>Kantara</td>\n",
       "      <td>2022</td>\n",
       "      <td>Rishab Shetty</td>\n",
       "      <td>Rishab Shetty, Sapthami Gowda, Kishore Kumar G...</td>\n",
       "      <td>9.3</td>\n",
       "      <td>148</td>\n",
       "      <td>UA</td>\n",
       "      <td>Gross Unkown</td>\n",
       "      <td>Action</td>\n",
       "      <td>Adventure,  Drama</td>\n",
       "    </tr>\n",
       "    <tr>\n",
       "      <th>1</th>\n",
       "      <td>The Dark Knight</td>\n",
       "      <td>2008</td>\n",
       "      <td>Christopher Nolan</td>\n",
       "      <td>Christian Bale, Heath Ledger, Aaron Eckhart, M...</td>\n",
       "      <td>9.0</td>\n",
       "      <td>152</td>\n",
       "      <td>UA</td>\n",
       "      <td>$534.86M</td>\n",
       "      <td>Action</td>\n",
       "      <td>Crime,  Drama</td>\n",
       "    </tr>\n",
       "    <tr>\n",
       "      <th>2</th>\n",
       "      <td>The Lord of the Rings: The Return of the King</td>\n",
       "      <td>2003</td>\n",
       "      <td>Peter Jackson</td>\n",
       "      <td>Elijah Wood, Viggo Mortensen, Ian McKellen, Or...</td>\n",
       "      <td>9.0</td>\n",
       "      <td>201</td>\n",
       "      <td>U</td>\n",
       "      <td>$377.85M</td>\n",
       "      <td>Action</td>\n",
       "      <td>Adventure,  Drama</td>\n",
       "    </tr>\n",
       "    <tr>\n",
       "      <th>3</th>\n",
       "      <td>Inception</td>\n",
       "      <td>2010</td>\n",
       "      <td>Christopher Nolan</td>\n",
       "      <td>Leonardo DiCaprio, Joseph Gordon-Levitt, Ellio...</td>\n",
       "      <td>8.8</td>\n",
       "      <td>148</td>\n",
       "      <td>UA</td>\n",
       "      <td>$292.58M</td>\n",
       "      <td>Action</td>\n",
       "      <td>Adventure,  Sci-Fi</td>\n",
       "    </tr>\n",
       "    <tr>\n",
       "      <th>4</th>\n",
       "      <td>The Lord of the Rings: The Two Towers</td>\n",
       "      <td>2002</td>\n",
       "      <td>Peter Jackson</td>\n",
       "      <td>Elijah Wood, Ian McKellen, Viggo Mortensen, Or...</td>\n",
       "      <td>8.8</td>\n",
       "      <td>179</td>\n",
       "      <td>UA</td>\n",
       "      <td>$342.55M</td>\n",
       "      <td>Action</td>\n",
       "      <td>Adventure,  Drama</td>\n",
       "    </tr>\n",
       "  </tbody>\n",
       "</table>\n",
       "</div>"
      ],
      "text/plain": [
       "                                     Movie_Title  Year           Director  \\\n",
       "0                                        Kantara  2022      Rishab Shetty   \n",
       "1                                The Dark Knight  2008  Christopher Nolan   \n",
       "2  The Lord of the Rings: The Return of the King  2003      Peter Jackson   \n",
       "3                                      Inception  2010  Christopher Nolan   \n",
       "4          The Lord of the Rings: The Two Towers  2002      Peter Jackson   \n",
       "\n",
       "                                              Actors  Rating  Runtime(Mins)  \\\n",
       "0  Rishab Shetty, Sapthami Gowda, Kishore Kumar G...     9.3            148   \n",
       "1  Christian Bale, Heath Ledger, Aaron Eckhart, M...     9.0            152   \n",
       "2  Elijah Wood, Viggo Mortensen, Ian McKellen, Or...     9.0            201   \n",
       "3  Leonardo DiCaprio, Joseph Gordon-Levitt, Ellio...     8.8            148   \n",
       "4  Elijah Wood, Ian McKellen, Viggo Mortensen, Or...     8.8            179   \n",
       "\n",
       "  Censor   Total_Gross main_genre           side_genre  \n",
       "0     UA  Gross Unkown     Action    Adventure,  Drama  \n",
       "1     UA      $534.86M     Action        Crime,  Drama  \n",
       "2      U      $377.85M     Action    Adventure,  Drama  \n",
       "3     UA      $292.58M     Action   Adventure,  Sci-Fi  \n",
       "4     UA      $342.55M     Action    Adventure,  Drama  "
      ]
     },
     "execution_count": 4,
     "metadata": {},
     "output_type": "execute_result"
    }
   ],
   "source": [
    "imdb.head()"
   ]
  },
  {
   "cell_type": "code",
   "execution_count": 5,
   "id": "bb6ce6e4-5a31-4b04-abc0-420477504f30",
   "metadata": {},
   "outputs": [
    {
     "ename": "NameError",
     "evalue": "name 'df' is not defined",
     "output_type": "error",
     "traceback": [
      "\u001b[1;31m---------------------------------------------------------------------------\u001b[0m",
      "\u001b[1;31mNameError\u001b[0m                                 Traceback (most recent call last)",
      "Cell \u001b[1;32mIn [5], line 2\u001b[0m\n\u001b[0;32m      1\u001b[0m \u001b[38;5;66;03m#shape = rows x columns\u001b[39;00m\n\u001b[1;32m----> 2\u001b[0m \u001b[43mdf\u001b[49m\u001b[38;5;241m.\u001b[39mshape\n",
      "\u001b[1;31mNameError\u001b[0m: name 'df' is not defined"
     ]
    }
   ],
   "source": [
    "#shape = rows x columns\n",
    "df.shape"
   ]
  },
  {
   "cell_type": "code",
   "execution_count": null,
   "id": "8dd530a2-ff6f-4b36-ad3d-4454efb6eddf",
   "metadata": {},
   "outputs": [],
   "source": [
    "#Information\n",
    "imdb.info()\n",
    "\n",
    "#Notice: \n",
    "    #that there is no null value anyway\n",
    "    #data types for numeric types are ok except by the Total_Gross (see Total Gross Section Down Below)"
   ]
  },
  {
   "cell_type": "code",
   "execution_count": null,
   "id": "0e9d0d88-9533-485e-a579-9f5e76d2141c",
   "metadata": {},
   "outputs": [],
   "source": [
    "#Correlation between columns\n",
    "imdb.corr()"
   ]
  },
  {
   "cell_type": "code",
   "execution_count": null,
   "id": "1c5042f6-2329-4f31-9a72-bde5ae64c285",
   "metadata": {},
   "outputs": [],
   "source": [
    "#Statistical Information\n",
    "imdb.describe()\n",
    "\n",
    "#Notice that although There is no corelation betweem columns, there is a correlation between number of movies and their year. \n",
    "#Despite the oldest movie is from 1920, just 25% of them are from before 1997. This will be ilustrated at the chart down below."
   ]
  },
  {
   "cell_type": "code",
   "execution_count": null,
   "id": "60d091c9-cf3e-4acc-a45b-9547983b32c1",
   "metadata": {},
   "outputs": [],
   "source": [
    "#Duplications\n",
    "imdb[imdb.duplicated()]"
   ]
  },
  {
   "cell_type": "code",
   "execution_count": null,
   "id": "8739d248-5fa6-4118-b609-9775b3c69b85",
   "metadata": {},
   "outputs": [],
   "source": [
    "# Removing duplications\n",
    "imdb.drop_duplicates(inplace=True)"
   ]
  },
  {
   "cell_type": "markdown",
   "id": "c74f0be5-8d9f-4962-a385-081cc4219952",
   "metadata": {},
   "source": [
    "<h2 style='text-align:center; background-color:darkgreen; color:white; padding:10px'>Visualizations</h2>"
   ]
  },
  {
   "cell_type": "code",
   "execution_count": null,
   "id": "b34fa9cf-6075-432f-8f4f-ee8a8eb61d63",
   "metadata": {},
   "outputs": [],
   "source": [
    "# Chart to show the high quantity of newer movies\n",
    "plt.figure(num=0, figsize=(9,4))\n",
    "plt.bar(imdb['Year'].value_counts().index, imdb['Year'].value_counts().values)\n",
    "plt.title('Quantity of Movies by Year')\n",
    "plt.show()"
   ]
  },
  {
   "cell_type": "code",
   "execution_count": null,
   "id": "c6529e7d-3b65-47c3-b7d5-a8a3ca2229a5",
   "metadata": {},
   "outputs": [],
   "source": [
    "# Top 5 directors in quantity of movies in this data set\n",
    "plt.figure(figsize=(9,4))\n",
    "plt.bar(imdb['Director'].value_counts()[:5].index, imdb['Director'].value_counts()[:5].values)\n",
    "plt.title('Top 5 Directors whit most movies')\n",
    "plt.show()"
   ]
  },
  {
   "cell_type": "code",
   "execution_count": null,
   "id": "4c92284b-0e7d-442d-8dc9-81ef208247c5",
   "metadata": {},
   "outputs": [],
   "source": [
    "#Top 5 directors in mean rating\n",
    "top_directors_rt = imdb.groupby('Director')['Rating'].mean().sort_values(ascending=False)[:5]\n",
    "plt.figure(figsize=(11,4))\n",
    "plt.bar(top_directors_rt.index, top_directors_rt.values)\n",
    "plt.title('Top Directors by Mean Rating')\n",
    "plt.show()"
   ]
  },
  {
   "cell_type": "code",
   "execution_count": null,
   "id": "310b9709-9f58-4b53-a590-fd99e6fc5892",
   "metadata": {},
   "outputs": [],
   "source": [
    "# TOP Movies by Rating\n",
    "imdb.sort_values('Rating', ascending=False)[['Movie_Title', 'Rating']][:5]"
   ]
  },
  {
   "cell_type": "code",
   "execution_count": null,
   "id": "9f50bc4e-53f0-405d-8433-c42ff21ebc9a",
   "metadata": {},
   "outputs": [],
   "source": [
    "# TOP Actors with most appearances\n",
    "# How I saw that the actors are separeted by comma, thus I first join them all using comma too, then I splited them into a Pandas Series \n",
    "# so I can use the value_counts functions to discover they appearances.\n",
    "\n",
    "actors = imdb['Actors']\n",
    "pd.Series(', '.join(list(actors)).split(', ')).value_counts()[:5]"
   ]
  },
  {
   "cell_type": "markdown",
   "id": "280835cb-b9fa-41e4-b375-42a782759604",
   "metadata": {},
   "source": [
    "<h2 style='text-align:center; background-color:darkgreen; color:white; padding:10px; margin:0px'>Total Gross</h2>\n",
    "<h3 style='text-align:center; background-color:darkgreen; color:white; padding:10px; margin:0px'>Feature Engineering</h3>"
   ]
  },
  {
   "cell_type": "markdown",
   "id": "db515384-52e0-4601-82c7-2157d53f0d8b",
   "metadata": {},
   "source": [
    "<p>\n",
    "    <ol>\n",
    "        <li>First, to order by the total gross, whe have to change the type into a numeric type. As whe can see, there is a dollar sign in the left and a 'M' at the end that probably means Million.</li> \n",
    "        <li>Then, lets check if all the rows match this pattern in the step 1. </li>\n",
    "        <li>Then, lets drop the non-pattern values. Lastly, lets order by the float conversion of the values.</li>\n",
    "    </ol>\n",
    "</p>"
   ]
  },
  {
   "cell_type": "code",
   "execution_count": 6,
   "id": "8483651e-2fe5-4fb3-abcf-90922acc2c2f",
   "metadata": {},
   "outputs": [
    {
     "data": {
      "text/plain": [
       "array(['Gross Unkown'], dtype=object)"
      ]
     },
     "execution_count": 6,
     "metadata": {},
     "output_type": "execute_result"
    }
   ],
   "source": [
    "# Step 1\n",
    "# We already know that there is no null value.\n",
    "# Now we know that there is no other possibility: either it are in the patter '$123.45M' or it is 'Gross unknow'\n",
    "\n",
    "imdb.loc[~imdb['Total_Gross'].str.contains(r'^\\$[0-9.]+M$')]['Total_Gross'].unique()"
   ]
  },
  {
   "cell_type": "code",
   "execution_count": null,
   "id": "2b28b3aa-a626-4908-ba63-728cbce16a74",
   "metadata": {},
   "outputs": [],
   "source": [
    "#Step 2\n",
    "#Lets remove the 861 rowns whit the 'Gross Unknow'\n",
    "\n",
    "gross = imdb.drop(imdb[imdb['Total_Gross'] == 'Gross Unkown'].index)"
   ]
  },
  {
   "cell_type": "code",
   "execution_count": null,
   "id": "ed1458b1-e020-4bc2-8e82-9e1efc21099e",
   "metadata": {},
   "outputs": [],
   "source": [
    "# Finaly, lets Sort by the float values\n",
    "\n",
    "gross.sort_values('Total_Gross', ascending=False, key=lambda x: x.str.extract(r'([0-9.]+)', expand=False).astype(float)).head(5)"
   ]
  },
  {
   "cell_type": "code",
   "execution_count": 35,
   "id": "00212fbf-2b1b-4a22-8414-9252a592a5b0",
   "metadata": {
    "tags": []
   },
   "outputs": [],
   "source": [
    "# Replacing the total gross type to float (ps: unknow -> 0.0)\n",
    "\n",
    "imdb.loc[imdb['Total_Gross'] == 'Gross Unkown', 'Total_Gross'] = '0'\n",
    "imdb['Total_Gross'] = imdb['Total_Gross'].str.replace('$', '').str.replace('M', '')\n",
    "imdb['Total_Gross'] = imdb['Total_Gross'].astype(float) * 1000000"
   ]
  },
  {
   "cell_type": "code",
   "execution_count": 36,
   "id": "717eff1c-98a7-4cd3-95c0-9c103cb39d57",
   "metadata": {},
   "outputs": [
    {
     "data": {
      "text/html": [
       "<div>\n",
       "<style scoped>\n",
       "    .dataframe tbody tr th:only-of-type {\n",
       "        vertical-align: middle;\n",
       "    }\n",
       "\n",
       "    .dataframe tbody tr th {\n",
       "        vertical-align: top;\n",
       "    }\n",
       "\n",
       "    .dataframe thead th {\n",
       "        text-align: right;\n",
       "    }\n",
       "</style>\n",
       "<table border=\"1\" class=\"dataframe\">\n",
       "  <thead>\n",
       "    <tr style=\"text-align: right;\">\n",
       "      <th></th>\n",
       "      <th>Movie_Title</th>\n",
       "      <th>Year</th>\n",
       "      <th>Director</th>\n",
       "      <th>Actors</th>\n",
       "      <th>Rating</th>\n",
       "      <th>Runtime(Mins)</th>\n",
       "      <th>Censor</th>\n",
       "      <th>Total_Gross</th>\n",
       "      <th>main_genre</th>\n",
       "      <th>side_genre</th>\n",
       "    </tr>\n",
       "  </thead>\n",
       "  <tbody>\n",
       "    <tr>\n",
       "      <th>0</th>\n",
       "      <td>Kantara</td>\n",
       "      <td>2022</td>\n",
       "      <td>Rishab Shetty</td>\n",
       "      <td>Rishab Shetty, Sapthami Gowda, Kishore Kumar G...</td>\n",
       "      <td>9.3</td>\n",
       "      <td>148</td>\n",
       "      <td>UA</td>\n",
       "      <td>0.0</td>\n",
       "      <td>Action</td>\n",
       "      <td>Adventure,  Drama</td>\n",
       "    </tr>\n",
       "    <tr>\n",
       "      <th>1</th>\n",
       "      <td>The Dark Knight</td>\n",
       "      <td>2008</td>\n",
       "      <td>Christopher Nolan</td>\n",
       "      <td>Christian Bale, Heath Ledger, Aaron Eckhart, M...</td>\n",
       "      <td>9.0</td>\n",
       "      <td>152</td>\n",
       "      <td>UA</td>\n",
       "      <td>534860000.0</td>\n",
       "      <td>Action</td>\n",
       "      <td>Crime,  Drama</td>\n",
       "    </tr>\n",
       "    <tr>\n",
       "      <th>2</th>\n",
       "      <td>The Lord of the Rings: The Return of the King</td>\n",
       "      <td>2003</td>\n",
       "      <td>Peter Jackson</td>\n",
       "      <td>Elijah Wood, Viggo Mortensen, Ian McKellen, Or...</td>\n",
       "      <td>9.0</td>\n",
       "      <td>201</td>\n",
       "      <td>U</td>\n",
       "      <td>377850000.0</td>\n",
       "      <td>Action</td>\n",
       "      <td>Adventure,  Drama</td>\n",
       "    </tr>\n",
       "    <tr>\n",
       "      <th>3</th>\n",
       "      <td>Inception</td>\n",
       "      <td>2010</td>\n",
       "      <td>Christopher Nolan</td>\n",
       "      <td>Leonardo DiCaprio, Joseph Gordon-Levitt, Ellio...</td>\n",
       "      <td>8.8</td>\n",
       "      <td>148</td>\n",
       "      <td>UA</td>\n",
       "      <td>292580000.0</td>\n",
       "      <td>Action</td>\n",
       "      <td>Adventure,  Sci-Fi</td>\n",
       "    </tr>\n",
       "    <tr>\n",
       "      <th>4</th>\n",
       "      <td>The Lord of the Rings: The Two Towers</td>\n",
       "      <td>2002</td>\n",
       "      <td>Peter Jackson</td>\n",
       "      <td>Elijah Wood, Ian McKellen, Viggo Mortensen, Or...</td>\n",
       "      <td>8.8</td>\n",
       "      <td>179</td>\n",
       "      <td>UA</td>\n",
       "      <td>342550000.0</td>\n",
       "      <td>Action</td>\n",
       "      <td>Adventure,  Drama</td>\n",
       "    </tr>\n",
       "    <tr>\n",
       "      <th>...</th>\n",
       "      <td>...</td>\n",
       "      <td>...</td>\n",
       "      <td>...</td>\n",
       "      <td>...</td>\n",
       "      <td>...</td>\n",
       "      <td>...</td>\n",
       "      <td>...</td>\n",
       "      <td>...</td>\n",
       "      <td>...</td>\n",
       "      <td>...</td>\n",
       "    </tr>\n",
       "    <tr>\n",
       "      <th>5557</th>\n",
       "      <td>Disaster Movie</td>\n",
       "      <td>2008</td>\n",
       "      <td>Directors:Jason Friedberg, Aaron Seltzer</td>\n",
       "      <td>Carmen Electra, Vanessa Lachey, Nicole Parker,...</td>\n",
       "      <td>1.9</td>\n",
       "      <td>87</td>\n",
       "      <td>PG-13</td>\n",
       "      <td>14190000.0</td>\n",
       "      <td>Comedy</td>\n",
       "      <td>Sci-Fi</td>\n",
       "    </tr>\n",
       "    <tr>\n",
       "      <th>5558</th>\n",
       "      <td>The Hottie &amp; the Nottie</td>\n",
       "      <td>2008</td>\n",
       "      <td>Tom Putnam</td>\n",
       "      <td>Paris Hilton, Joel David Moore, Christine Laki...</td>\n",
       "      <td>1.9</td>\n",
       "      <td>91</td>\n",
       "      <td>PG-13</td>\n",
       "      <td>30000.0</td>\n",
       "      <td>Comedy</td>\n",
       "      <td>Romance</td>\n",
       "    </tr>\n",
       "    <tr>\n",
       "      <th>5559</th>\n",
       "      <td>From Justin to Kelly</td>\n",
       "      <td>2003</td>\n",
       "      <td>Robert Iscove</td>\n",
       "      <td>Kelly Clarkson, Justin Guarini, Katherine Bail...</td>\n",
       "      <td>1.9</td>\n",
       "      <td>81</td>\n",
       "      <td>PG</td>\n",
       "      <td>4920000.0</td>\n",
       "      <td>Comedy</td>\n",
       "      <td>Musical,  Romance</td>\n",
       "    </tr>\n",
       "    <tr>\n",
       "      <th>5560</th>\n",
       "      <td>Superbabies: Baby Geniuses 2</td>\n",
       "      <td>2004</td>\n",
       "      <td>Bob Clark</td>\n",
       "      <td>Jon Voight, Scott Baio, Vanessa Angel, Skyler ...</td>\n",
       "      <td>1.5</td>\n",
       "      <td>88</td>\n",
       "      <td>PG</td>\n",
       "      <td>9110000.0</td>\n",
       "      <td>Comedy</td>\n",
       "      <td>Family,  Sci-Fi</td>\n",
       "    </tr>\n",
       "    <tr>\n",
       "      <th>5561</th>\n",
       "      <td>Cumali Ceber: Allah Seni Alsin</td>\n",
       "      <td>2017</td>\n",
       "      <td>Gökhan Gök</td>\n",
       "      <td>Halil Söyletmez, Doga Konakoglu, Emre Keskin, ...</td>\n",
       "      <td>1.0</td>\n",
       "      <td>100</td>\n",
       "      <td>Not Rated</td>\n",
       "      <td>0.0</td>\n",
       "      <td>Comedy</td>\n",
       "      <td>Comedy</td>\n",
       "    </tr>\n",
       "  </tbody>\n",
       "</table>\n",
       "<p>5562 rows × 10 columns</p>\n",
       "</div>"
      ],
      "text/plain": [
       "                                        Movie_Title  Year  \\\n",
       "0                                           Kantara  2022   \n",
       "1                                   The Dark Knight  2008   \n",
       "2     The Lord of the Rings: The Return of the King  2003   \n",
       "3                                         Inception  2010   \n",
       "4             The Lord of the Rings: The Two Towers  2002   \n",
       "...                                             ...   ...   \n",
       "5557                                 Disaster Movie  2008   \n",
       "5558                        The Hottie & the Nottie  2008   \n",
       "5559                           From Justin to Kelly  2003   \n",
       "5560                   Superbabies: Baby Geniuses 2  2004   \n",
       "5561                 Cumali Ceber: Allah Seni Alsin  2017   \n",
       "\n",
       "                                      Director  \\\n",
       "0                                Rishab Shetty   \n",
       "1                            Christopher Nolan   \n",
       "2                                Peter Jackson   \n",
       "3                            Christopher Nolan   \n",
       "4                                Peter Jackson   \n",
       "...                                        ...   \n",
       "5557  Directors:Jason Friedberg, Aaron Seltzer   \n",
       "5558                                Tom Putnam   \n",
       "5559                             Robert Iscove   \n",
       "5560                                 Bob Clark   \n",
       "5561                                Gökhan Gök   \n",
       "\n",
       "                                                 Actors  Rating  \\\n",
       "0     Rishab Shetty, Sapthami Gowda, Kishore Kumar G...     9.3   \n",
       "1     Christian Bale, Heath Ledger, Aaron Eckhart, M...     9.0   \n",
       "2     Elijah Wood, Viggo Mortensen, Ian McKellen, Or...     9.0   \n",
       "3     Leonardo DiCaprio, Joseph Gordon-Levitt, Ellio...     8.8   \n",
       "4     Elijah Wood, Ian McKellen, Viggo Mortensen, Or...     8.8   \n",
       "...                                                 ...     ...   \n",
       "5557  Carmen Electra, Vanessa Lachey, Nicole Parker,...     1.9   \n",
       "5558  Paris Hilton, Joel David Moore, Christine Laki...     1.9   \n",
       "5559  Kelly Clarkson, Justin Guarini, Katherine Bail...     1.9   \n",
       "5560  Jon Voight, Scott Baio, Vanessa Angel, Skyler ...     1.5   \n",
       "5561  Halil Söyletmez, Doga Konakoglu, Emre Keskin, ...     1.0   \n",
       "\n",
       "      Runtime(Mins)     Censor  Total_Gross main_genre           side_genre  \n",
       "0               148         UA          0.0     Action    Adventure,  Drama  \n",
       "1               152         UA  534860000.0     Action        Crime,  Drama  \n",
       "2               201          U  377850000.0     Action    Adventure,  Drama  \n",
       "3               148         UA  292580000.0     Action   Adventure,  Sci-Fi  \n",
       "4               179         UA  342550000.0     Action    Adventure,  Drama  \n",
       "...             ...        ...          ...        ...                  ...  \n",
       "5557             87      PG-13   14190000.0     Comedy               Sci-Fi  \n",
       "5558             91      PG-13      30000.0     Comedy              Romance  \n",
       "5559             81         PG    4920000.0     Comedy    Musical,  Romance  \n",
       "5560             88         PG    9110000.0     Comedy      Family,  Sci-Fi  \n",
       "5561            100  Not Rated          0.0     Comedy               Comedy  \n",
       "\n",
       "[5562 rows x 10 columns]"
      ]
     },
     "execution_count": 36,
     "metadata": {},
     "output_type": "execute_result"
    }
   ],
   "source": [
    "imdb"
   ]
  },
  {
   "cell_type": "code",
   "execution_count": 37,
   "id": "cd81265a-eb84-466e-bb8a-b228bd4d8727",
   "metadata": {},
   "outputs": [],
   "source": [
    "# exporting to csv in order to be used in power bi\n",
    "\n",
    "imdb.to_csv('./files/imdb_threshed.csv', sep=';', index=False)"
   ]
  }
 ],
 "metadata": {
  "kernelspec": {
   "display_name": "Python 3 (ipykernel)",
   "language": "python",
   "name": "python3"
  },
  "language_info": {
   "codemirror_mode": {
    "name": "ipython",
    "version": 3
   },
   "file_extension": ".py",
   "mimetype": "text/x-python",
   "name": "python",
   "nbconvert_exporter": "python",
   "pygments_lexer": "ipython3",
   "version": "3.10.4"
  }
 },
 "nbformat": 4,
 "nbformat_minor": 5
}
